{
 "cells": [
  {
   "cell_type": "code",
   "execution_count": 5,
   "metadata": {},
   "outputs": [
    {
     "name": "stderr",
     "output_type": "stream",
     "text": [
      "Using CPU. Note: This module is much faster with a GPU.\n"
     ]
    },
    {
     "data": {
      "text/plain": [
       "<ml.ml.LogoErrorChecker at 0x7cd6303c3d10>"
      ]
     },
     "execution_count": 5,
     "metadata": {},
     "output_type": "execute_result"
    }
   ],
   "source": [
    "from ml.ml import LogoErrorChecker\n",
    "\n",
    "a = LogoErrorChecker(\n",
    "    direction_path='ml/weights/classification_direction.onnx',\n",
    "    people_path='ml/weights/search_people.pt',\n",
    "    crop_path='ml/weights/classification_crop.onnx',\n",
    "    logo_path='ml/weights/logo_detector.pt'\n",
    ")\n",
    "\n",
    "a"
   ]
  },
  {
   "cell_type": "code",
   "execution_count": 7,
   "metadata": {},
   "outputs": [
    {
     "ename": "AttributeError",
     "evalue": "'LogoErrorChecker' object has no attribute 'crop_classificator'",
     "output_type": "error",
     "traceback": [
      "\u001b[0;31m---------------------------------------------------------------------------\u001b[0m",
      "\u001b[0;31mAttributeError\u001b[0m                            Traceback (most recent call last)",
      "Cell \u001b[0;32mIn[7], line 1\u001b[0m\n\u001b[0;32m----> 1\u001b[0m \u001b[43ma\u001b[49m\u001b[38;5;241;43m.\u001b[39;49m\u001b[43mcheck_errors\u001b[49m\u001b[43m(\u001b[49m\u001b[38;5;124;43m'\u001b[39;49m\u001b[38;5;124;43m/home/dmitrii/Desktop/hack_22_06_24_school_of_programming/data/original/digital_economy/Примеры корректного брендирования/03614b22-6618-4183-adf0-c32422a21d27_3.jpg\u001b[39;49m\u001b[38;5;124;43m'\u001b[39;49m\u001b[43m)\u001b[49m\n",
      "File \u001b[0;32m~/Desktop/hack_22_06_24_school_of_programming/app/ml/ml.py:37\u001b[0m, in \u001b[0;36mLogoErrorChecker.check_errors\u001b[0;34m(self, image_path)\u001b[0m\n\u001b[1;32m     34\u001b[0m     \u001b[38;5;28;01mif\u001b[39;00m direction_info \u001b[38;5;241m>\u001b[39m \u001b[38;5;241m0\u001b[39m:\n\u001b[1;32m     35\u001b[0m         errors\u001b[38;5;241m.\u001b[39mappend(\u001b[38;5;124m'\u001b[39m\u001b[38;5;124mНеправильное направление\u001b[39m\u001b[38;5;124m'\u001b[39m)\n\u001b[0;32m---> 37\u001b[0m     logo_class \u001b[38;5;241m=\u001b[39m \u001b[38;5;28;43mself\u001b[39;49m\u001b[38;5;241;43m.\u001b[39;49m\u001b[43mcrop_classificator\u001b[49m\u001b[38;5;241m.\u001b[39mpredict(cropped_image)\n\u001b[1;32m     38\u001b[0m     \u001b[38;5;66;03m#TODO: если класс является x, проверить цвет\u001b[39;00m\n\u001b[1;32m     41\u001b[0m \u001b[38;5;28;01mif\u001b[39;00m \u001b[38;5;28mself\u001b[39m\u001b[38;5;241m.\u001b[39mpeople_searcher\u001b[38;5;241m.\u001b[39mdetect(image_path):\n",
      "\u001b[0;31mAttributeError\u001b[0m: 'LogoErrorChecker' object has no attribute 'crop_classificator'"
     ]
    }
   ],
   "source": [
    "a.check_errors('/home/dmitrii/Desktop/hack_22_06_24_school_of_programming/data/original/digital_economy/Примеры корректного брендирования/03614b22-6618-4183-adf0-c32422a21d27_3.jpg')"
   ]
  },
  {
   "cell_type": "code",
   "execution_count": null,
   "metadata": {},
   "outputs": [],
   "source": []
  }
 ],
 "metadata": {
  "kernelspec": {
   "display_name": "venv_ilona",
   "language": "python",
   "name": "python3"
  },
  "language_info": {
   "codemirror_mode": {
    "name": "ipython",
    "version": 3
   },
   "file_extension": ".py",
   "mimetype": "text/x-python",
   "name": "python",
   "nbconvert_exporter": "python",
   "pygments_lexer": "ipython3",
   "version": "3.11.7"
  }
 },
 "nbformat": 4,
 "nbformat_minor": 2
}
