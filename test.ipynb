{
 "cells": [
  {
   "cell_type": "code",
   "execution_count": 1,
   "metadata": {},
   "outputs": [
    {
     "name": "stderr",
     "output_type": "stream",
     "text": [
      "Using CPU. Note: This module is much faster with a GPU.\n"
     ]
    },
    {
     "data": {
      "text/plain": [
       "<app.ml.ml.LogoErrorChecker at 0x76add4133790>"
      ]
     },
     "execution_count": 1,
     "metadata": {},
     "output_type": "execute_result"
    }
   ],
   "source": [
    "from app.ml.ml import LogoErrorChecker\n",
    "\n",
    "a = LogoErrorChecker(\n",
    "    # direction_path='ml/weights/classification_direction.onnx',\n",
    "    # people_path='ml/weights/search_people.pt',\n",
    "    # crop_path='ml/weights/classification_crop.onnx',\n",
    "    # logo_path='ml/weights/logo_detector.pt'\n",
    ")\n",
    "\n",
    "a"
   ]
  },
  {
   "cell_type": "code",
   "execution_count": 2,
   "metadata": {},
   "outputs": [
    {
     "data": {
      "text/plain": [
       "{'errors': [],\n",
       " 'ocr_class': 'цифровая экономика',\n",
       " 'bbox_results': [{'bbox': (439, 200, 918, 710, 0.8280251622200012),\n",
       "   'cropped_class': None,\n",
       "   'errors': [],\n",
       "   'direction_info': None}],\n",
       " 'cropped_class': 'None',\n",
       " 'direction_info': 8.775586}"
      ]
     },
     "execution_count": 2,
     "metadata": {},
     "output_type": "execute_result"
    }
   ],
   "source": [
    "from PIL import Image\n",
    "\n",
    "image = Image.open('/home/dmitrii/Desktop/hack_22_06_24_school_of_programming/data/original/digital_economy/Примеры корректного брендирования/03614b22-6618-4183-adf0-c32422a21d27_3.jpg')\n",
    "image = image.convert('RGB')\n",
    "\n",
    "a.check_errors(image)"
   ]
  },
  {
   "cell_type": "code",
   "execution_count": 8,
   "metadata": {},
   "outputs": [],
   "source": [
    "from app.ml.ml import LogoDetector\n",
    "\n",
    "a = LogoDetector()"
   ]
  },
  {
   "cell_type": "code",
   "execution_count": 9,
   "metadata": {},
   "outputs": [
    {
     "data": {
      "text/plain": [
       "[(439, 200, 918, 710, 0.8280251622200012)]"
      ]
     },
     "execution_count": 9,
     "metadata": {},
     "output_type": "execute_result"
    }
   ],
   "source": [
    "a.predict('/home/dmitrii/Desktop/hack_22_06_24_school_of_programming/data/original/digital_economy/Примеры корректного брендирования/03614b22-6618-4183-adf0-c32422a21d27_3.jpg')"
   ]
  },
  {
   "cell_type": "code",
   "execution_count": null,
   "metadata": {},
   "outputs": [],
   "source": []
  }
 ],
 "metadata": {
  "kernelspec": {
   "display_name": "venv_ilona",
   "language": "python",
   "name": "python3"
  },
  "language_info": {
   "codemirror_mode": {
    "name": "ipython",
    "version": 3
   },
   "file_extension": ".py",
   "mimetype": "text/x-python",
   "name": "python",
   "nbconvert_exporter": "python",
   "pygments_lexer": "ipython3",
   "version": "3.11.7"
  }
 },
 "nbformat": 4,
 "nbformat_minor": 2
}
