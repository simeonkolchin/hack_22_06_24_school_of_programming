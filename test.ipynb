{
 "cells": [
  {
   "cell_type": "code",
   "execution_count": 1,
   "metadata": {},
   "outputs": [
    {
     "name": "stderr",
     "output_type": "stream",
     "text": [
      "Using CPU. Note: This module is much faster with a GPU.\n"
     ]
    },
    {
     "data": {
      "text/plain": [
       "<app.ml.ml.LogoErrorChecker at 0x7b150c2aa850>"
      ]
     },
     "execution_count": 1,
     "metadata": {},
     "output_type": "execute_result"
    }
   ],
   "source": [
    "from app.ml.ml import LogoErrorChecker\n",
    "\n",
    "a = LogoErrorChecker(\n",
    "    # direction_path='ml/weights/classification_direction.onnx',\n",
    "    # people_path='ml/weights/search_people.pt',\n",
    "    # crop_path='ml/weights/classification_crop.onnx',\n",
    "    # logo_path='ml/weights/logo_detector.pt'\n",
    ")\n",
    "\n",
    "a"
   ]
  },
  {
   "cell_type": "code",
   "execution_count": 2,
   "metadata": {},
   "outputs": [
    {
     "data": {
      "text/plain": [
       "{'errors': [],\n",
       " 'ocr_class': 'цифровая экономика',\n",
       " 'bbox_results': [{'bbox': (439, 200, 918, 710, 0.8280251622200012),\n",
       "   'cropped_class': 'None',\n",
       "   'errors': [],\n",
       "   'ocr_class': None,\n",
       "   'color_class': ['цифровая экономика 65.06%',\n",
       "    'наука и университеты 61.81%',\n",
       "    'образование 13.32%',\n",
       "    'демография 5.64%',\n",
       "    'культура 2.64%']}]}"
      ]
     },
     "execution_count": 2,
     "metadata": {},
     "output_type": "execute_result"
    }
   ],
   "source": [
    "from PIL import Image\n",
    "\n",
    "image = Image.open('/home/dmitrii/Desktop/hack_22_06_24_school_of_programming/data/original/digital_economy/Примеры корректного брендирования/03614b22-6618-4183-adf0-c32422a21d27_3.jpg')\n",
    "image = image.convert('RGB')\n",
    "\n",
    "a.check_errors(image)"
   ]
  },
  {
   "cell_type": "code",
   "execution_count": 8,
   "metadata": {},
   "outputs": [],
   "source": [
    "from app.ml.ml import LogoDetector\n",
    "\n",
    "a = LogoDetector()"
   ]
  },
  {
   "cell_type": "code",
   "execution_count": 9,
   "metadata": {},
   "outputs": [
    {
     "data": {
      "text/plain": [
       "[(439, 200, 918, 710, 0.8280251622200012)]"
      ]
     },
     "execution_count": 9,
     "metadata": {},
     "output_type": "execute_result"
    }
   ],
   "source": [
    "a.predict('/home/dmitrii/Desktop/hack_22_06_24_school_of_programming/data/original/digital_economy/Примеры корректного брендирования/03614b22-6618-4183-adf0-c32422a21d27_3.jpg')"
   ]
  },
  {
   "cell_type": "code",
   "execution_count": null,
   "metadata": {},
   "outputs": [],
   "source": [
    "{\n",
    "    'demographics': [[65, 145, 235]],\n",
    "    'culture': [[120, 110, 170], [100, 110, 200]],\n",
    "    'digital economics': [[95, 135, 193]],\n",
    "    'dorogi': [[210, 170, 85], [220, 200, 90]],\n",
    "}"
   ]
  },
  {
   "cell_type": "code",
   "execution_count": 12,
   "metadata": {},
   "outputs": [
    {
     "name": "stdout",
     "output_type": "stream",
     "text": [
      "Class with the most matching pixels: demographics, Pixels: 4844\n"
     ]
    }
   ],
   "source": [
    "import cv2\n",
    "import numpy as np\n",
    "from collections import Counter\n",
    "\n",
    "# Функция для подсчета количества пикселей, подходящих под каждый цвет\n",
    "def count_matching_pixels(image, colors, threshold=35):\n",
    "    counts = Counter()\n",
    "    for color_name, color_values in colors.items():\n",
    "        for color in color_values:\n",
    "            diff = np.abs(image - np.array(color))\n",
    "            mask = np.sum(diff, axis=-1) <= threshold\n",
    "            count = np.count_nonzero(mask)\n",
    "            counts[color_name] += count\n",
    "    return counts\n",
    "\n",
    "# Загрузка изображения\n",
    "image_path = '/home/dmitrii/Desktop/hack_22_06_24_school_of_programming/data/classification_crop/dorogi/dorogi3.jpg'\n",
    "image_path = '/home/dmitrii/Desktop/hack_22_06_24_school_of_programming/data/classification_crop/digital_economy/03614b22-6618-4183-adf0-c32422a21d27_3.jpg'\n",
    "image_path = '/home/dmitrii/Desktop/hack_22_06_24_school_of_programming/data/classification_crop/demographics/2d150a9124f368b0c6386c68ca7bd82a.jpg'\n",
    "image_path = '/home/dmitrii/Desktop/hack_22_06_24_school_of_programming/data/classification_crop/demographics/zqVJpAyFy90.jpg'\n",
    "\n",
    "image = cv2.imread(image_path)\n",
    "image = cv2.cvtColor(image, cv2.COLOR_BGR2RGB)\n",
    "\n",
    "# Определение цветов для каждого класса\n",
    "colors = {\n",
    "    'demographics': [[65, 145, 235], [75,165,200], [60, 125, 160]],\n",
    "    'culture': [[120, 110, 170], [100, 110, 200]],\n",
    "    'digital economics': [[95, 135, 193]],\n",
    "    'dorogi': [[210, 170, 85], [220, 200, 90]],\n",
    "    'ecology': [[150, 200, 130], [100, 185, 140], [75, 110, 85], [145, 180, 125], [80, 120, 60]],\n",
    "    'education': [[125, 185, 220], [85, 190, 190], [75,115,175], [75,120,195], [110,155,180], [55,100,150]],\n",
    "    'healthcare': [[200,45,75], [85,45,50], [175,55,65], [160,110,140], [180,50,50], [140,60,85]],\n",
    "    'international-cooperation': [[45,55,70], [75,80,95]],\n",
    "    'science-universities': [[60,135,185], [90,165,145], [80,165,120], [95,145,200], [80,140,205], [85,130,185]],\n",
    "    'tourism': [[65,125,115], [85,170,155]],\n",
    "}\n",
    "\n",
    "# Подсчет количества подходящих пикселей для каждого класса\n",
    "counts = count_matching_pixels(image, colors)\n",
    "\n",
    "# Определение класса с максимальным количеством подходящих пикселей\n",
    "most_common_class = counts.most_common(1)[0]\n",
    "print(f\"Class with the most matching pixels: {most_common_class[0]}, Pixels: {most_common_class[1]}\")\n"
   ]
  },
  {
   "cell_type": "code",
   "execution_count": 17,
   "metadata": {},
   "outputs": [
    {
     "name": "stdout",
     "output_type": "stream",
     "text": [
      "Class with the most matching pixels: demographics, Pixels: 6444\n"
     ]
    }
   ],
   "source": [
    "import cv2\n",
    "import numpy as np\n",
    "from collections import Counter\n",
    "\n",
    "# Функция для подсчета количества пикселей, подходящих под каждый цвет\n",
    "def count_matching_pixels(image, colors, threshold=40):\n",
    "    counts = Counter()\n",
    "    height, width, _ = image.shape\n",
    "\n",
    "    for y in range(height):\n",
    "        for x in range(width):\n",
    "            pixel = image[y, x]\n",
    "            best_match_class = None\n",
    "            min_diff = float('inf')\n",
    "\n",
    "            for color_name, color_values in colors.items():\n",
    "                for color in color_values:\n",
    "                    diff = np.sum(np.abs(pixel - np.array(color)))\n",
    "                    if diff <= threshold and diff < min_diff:\n",
    "                        min_diff = diff\n",
    "                        best_match_class = color_name\n",
    "\n",
    "            if best_match_class:\n",
    "                counts[best_match_class] += 1\n",
    "\n",
    "    return counts\n",
    "\n",
    "# Загрузка изображения\n",
    "image_path = '/home/dmitrii/Desktop/hack_22_06_24_school_of_programming/data/classification_crop/dorogi/dorogi3.jpg'\n",
    "image_path = '/home/dmitrii/Desktop/hack_22_06_24_school_of_programming/data/classification_crop/digital_economy/03614b22-6618-4183-adf0-c32422a21d27_3.jpg'\n",
    "image_path = '/home/dmitrii/Desktop/hack_22_06_24_school_of_programming/data/classification_crop/demographics/2d150a9124f368b0c6386c68ca7bd82a.jpg'\n",
    "image_path = '/home/dmitrii/Desktop/hack_22_06_24_school_of_programming/data/classification_crop/demographics/zqVJpAyFy90.jpg'\n",
    "\n",
    "image = cv2.imread(image_path)\n",
    "image = cv2.cvtColor(image, cv2.COLOR_BGR2RGB)\n",
    "\n",
    "# Определение цветов для каждого класса\n",
    "colors = {\n",
    "    'demographics': [[65, 145, 235], [75,165,200], [60, 125, 160]],\n",
    "    'culture': [[120, 110, 170], [100, 110, 200]],\n",
    "    'digital economics': [[95, 135, 193]],\n",
    "    'dorogi': [[210, 170, 85], [220, 200, 90]],\n",
    "    'ecology': [[150, 200, 130], [100, 185, 140], [75, 110, 85], [145, 180, 125], [80, 120, 60]],\n",
    "    'education': [[125, 185, 220], [85, 190, 190], [75,115,175], [75,120,195], [110,155,180], [55,100,150]],\n",
    "    'healthcare': [[200,45,75], [85,45,50], [175,55,65], [160,110,140], [180,50,50], [140,60,85]],\n",
    "    'international-cooperation': [[45,55,70], [75,80,95]],\n",
    "    'science-universities': [[60,135,185], [90,165,145], [80,165,120], [95,145,200], [80,140,205], [85,130,185]],\n",
    "    'tourism': [[65,125,115], [85,170,155]],\n",
    "}\n",
    "\n",
    "counts = count_matching_pixels(image, colors)\n",
    "\n",
    "most_common_class = counts.most_common(1)[0]\n",
    "print(f\"Class with the most matching pixels: {most_common_class[0]}, Pixels: {most_common_class[1]}\")\n"
   ]
  },
  {
   "cell_type": "code",
   "execution_count": 18,
   "metadata": {},
   "outputs": [
    {
     "data": {
      "text/plain": [
       "Counter({'demographics': 6444,\n",
       "         'education': 5325,\n",
       "         'healthcare': 3978,\n",
       "         'science-universities': 1510,\n",
       "         'digital economics': 145,\n",
       "         'international-cooperation': 25,\n",
       "         'culture': 3})"
      ]
     },
     "execution_count": 18,
     "metadata": {},
     "output_type": "execute_result"
    }
   ],
   "source": [
    "counts"
   ]
  },
  {
   "cell_type": "code",
   "execution_count": 30,
   "metadata": {},
   "outputs": [
    {
     "name": "stdout",
     "output_type": "stream",
     "text": [
      "Class with the most matching pixels: education, Pixels: 0.10552952202436738\n"
     ]
    },
    {
     "data": {
      "text/plain": [
       "['culture',\n",
       " 'demographics',\n",
       " 'digital economics',\n",
       " 'dorogi',\n",
       " 'ecology',\n",
       " 'education',\n",
       " 'healthcare',\n",
       " 'international-cooperation',\n",
       " 'science-universities',\n",
       " 'tourism']"
      ]
     },
     "execution_count": 30,
     "metadata": {},
     "output_type": "execute_result"
    }
   ],
   "source": [
    "import cv2\n",
    "import numpy as np\n",
    "from collections import Counter\n",
    "\n",
    "# Функция для подсчета количества пикселей, подходящих под каждый цвет\n",
    "def count_matching_pixels(image, colors, threshold=40):\n",
    "    height, width, _ = image.shape\n",
    "    image_flat = image.reshape(-1, 3)\n",
    "    counts = Counter()\n",
    "\n",
    "    for color_name, color_values in colors.items():\n",
    "        for color in color_values:\n",
    "            color_array = np.array(color)\n",
    "            diff = np.abs(image_flat - color_array)\n",
    "            mask = np.sum(diff, axis=-1) <= threshold\n",
    "            counts[color_name] += np.count_nonzero(mask)\n",
    "    \n",
    "    return counts\n",
    "\n",
    "\n",
    "image_path = '/home/dmitrii/Desktop/hack_22_06_24_school_of_programming/data/classification_crop/dorogi/dorogi3.jpg'\n",
    "image_path = '/home/dmitrii/Desktop/hack_22_06_24_school_of_programming/data/classification_crop/digital_economy/03614b22-6618-4183-adf0-c32422a21d27_3.jpg'\n",
    "image_path = '/home/dmitrii/Desktop/hack_22_06_24_school_of_programming/data/classification_crop/demographics/2d150a9124f368b0c6386c68ca7bd82a.jpg'\n",
    "image_path = '/home/dmitrii/Desktop/hack_22_06_24_school_of_programming/data/classification_crop/demographics/zqVJpAyFy90.jpg'\n",
    "\n",
    "\n",
    "image = cv2.imread(image_path)\n",
    "image = cv2.cvtColor(image, cv2.COLOR_BGR2RGB)\n",
    "h, w, c = image.shape\n",
    "\n",
    "colors = {\n",
    "    'demographics': [[65, 145, 235], [75,165,200], [60, 125, 160]],\n",
    "    'culture': [[120, 110, 170], [100, 110, 200]],\n",
    "    'digital economics': [[95, 135, 193]],\n",
    "    'dorogi': [[210, 170, 85], [220, 200, 90]],\n",
    "    'ecology': [[150, 200, 130], [100, 185, 140], [75, 110, 85], [145, 180, 125], [80, 120, 60]],\n",
    "    'education': [[125, 185, 220], [85, 190, 190], [75,115,175], [75,120,195], [110,155,180], [55,100,150]],\n",
    "    'healthcare': [[200,45,75], [85,45,50], [175,55,65], [160,110,140], [180,50,50], [140,60,85]],\n",
    "    'international-cooperation': [[45,55,70], [75,80,95]],\n",
    "    'science-universities': [[60,135,185], [90,165,145], [80,165,120], [95,145,200], [80,140,205], [85,130,185]],\n",
    "    'tourism': [[65,125,115], [85,170,155]],\n",
    "}\n",
    "\n",
    "counts = count_matching_pixels(image, colors)\n",
    "\n",
    "for key in counts.keys():\n",
    "    counts[key] /= h * w\n",
    "\n",
    "most_common_class = counts.most_common(1)[0]\n",
    "print(f\"Class with the most matching pixels: {most_common_class[0]}, Pixels: {most_common_class[1]}\")"
   ]
  },
  {
   "cell_type": "code",
   "execution_count": 24,
   "metadata": {},
   "outputs": [
    {
     "data": {
      "text/plain": [
       "80025"
      ]
     },
     "execution_count": 24,
     "metadata": {},
     "output_type": "execute_result"
    }
   ],
   "source": [
    "h, w, c = image.shape\n",
    "h * w"
   ]
  },
  {
   "cell_type": "code",
   "execution_count": 1,
   "metadata": {},
   "outputs": [
    {
     "name": "stdout",
     "output_type": "stream",
     "text": [
      "Mask for demographics saved as demographics_mask.png\n",
      "Mask for culture saved as culture_mask.png\n",
      "Mask for digital economics saved as digital economics_mask.png\n",
      "Mask for dorogi saved as dorogi_mask.png\n",
      "Mask for ecology saved as ecology_mask.png\n",
      "Mask for education saved as education_mask.png\n",
      "Mask for healthcare saved as healthcare_mask.png\n",
      "Mask for international-cooperation saved as international-cooperation_mask.png\n",
      "Mask for science-universities saved as science-universities_mask.png\n",
      "Mask for tourism saved as tourism_mask.png\n",
      "Class with the most matching pixels: dorogi, Pixels: 38919\n"
     ]
    }
   ],
   "source": [
    "import cv2\n",
    "import numpy as np\n",
    "from collections import Counter\n",
    "\n",
    "# Функция для подсчета количества пикселей, подходящих под каждый цвет\n",
    "def count_matching_pixels(image, colors, threshold=40):\n",
    "    height, width, _ = image.shape\n",
    "    image_flat = image.reshape(-1, 3)\n",
    "    counts = Counter()\n",
    "    masks = {color_name: np.zeros((height, width), dtype=np.uint8) for color_name in colors}\n",
    "\n",
    "    for color_name, color_values in colors.items():\n",
    "        for color in color_values:\n",
    "            color_array = np.array(color)\n",
    "            diff = np.abs(image_flat - color_array)\n",
    "            mask = np.sum(diff, axis=-1) <= threshold\n",
    "            mask = mask.reshape(height, width).astype(np.uint8)\n",
    "            masks[color_name] = np.maximum(masks[color_name], mask)\n",
    "            counts[color_name] += np.count_nonzero(mask)\n",
    "    \n",
    "    return counts, masks\n",
    "\n",
    "image_path = '/home/dmitrii/Desktop/hack_22_06_24_school_of_programming/data/classification_crop/dorogi/dorogi3.jpg'\n",
    "# image_path = '/home/dmitrii/Desktop/hack_22_06_24_school_of_programming/data/classification_crop/digital_economy/03614b22-6618-4183-adf0-c32422a21d27_3.jpg'\n",
    "# image_path = '/home/dmitrii/Desktop/hack_22_06_24_school_of_programming/data/classification_crop/demographics/2d150a9124f368b0c6386c68ca7bd82a.jpg'\n",
    "# image_path = '/home/dmitrii/Desktop/hack_22_06_24_school_of_programming/data/classification_crop/demographics/zqVJpAyFy90.jpg'\n",
    "\n",
    "\n",
    "image = cv2.imread(image_path)\n",
    "image = cv2.cvtColor(image, cv2.COLOR_BGR2RGB)\n",
    "\n",
    "colors = {\n",
    "    'demographics': [[65, 145, 235], [75,165,200], [60, 125, 160]],\n",
    "    'culture': [[120, 110, 170], [100, 110, 200]],\n",
    "    'digital economics': [[95, 135, 193]],\n",
    "    'dorogi': [[210, 170, 85], [220, 200, 90], [210,180,75], [200,175,75]],\n",
    "    'ecology': [[150, 200, 130], [100, 185, 140], [75, 110, 85], [145, 180, 125], [80, 120, 60]],\n",
    "    'education': [[125, 185, 220], [85, 190, 190], [75,115,175], [75,120,195], [110,155,180], [55,100,150]],\n",
    "    'healthcare': [[200,45,75], [85,45,50], [175,55,65], [160,110,140], [180,50,50], [140,60,85]],\n",
    "    'international-cooperation': [[45,55,70], [75,80,95]],\n",
    "    'science-universities': [[60,135,185], [90,165,145], [80,165,120], [95,145,200], [80,140,205], [85,130,185]],\n",
    "    'tourism': [[65,125,115], [85,170,155]],\n",
    "}\n",
    "\n",
    "# Подсчет количества подходящих пикселей для каждого класса и получение масок\n",
    "counts, masks = count_matching_pixels(image, colors)\n",
    "\n",
    "# Сохранение масок в файлы\n",
    "for color_name, mask in masks.items():\n",
    "    mask_filename = f'{color_name}_mask.png'\n",
    "    cv2.imwrite(mask_filename, mask * 255)  # умножаем на 255, чтобы сделать маску видимой\n",
    "    print(f\"Mask for {color_name} saved as {mask_filename}\")\n",
    "\n",
    "# Определение класса с максимальным количеством подходящих пикселей\n",
    "most_common_class = counts.most_common(1)[0]\n",
    "print(f\"Class with the most matching pixels: {most_common_class[0]}, Pixels: {most_common_class[1]}\")\n"
   ]
  },
  {
   "cell_type": "code",
   "execution_count": 41,
   "metadata": {},
   "outputs": [
    {
     "data": {
      "text/plain": [
       "[('education', 10.55),\n",
       " ('demographics', 10.04),\n",
       " ('healthcare', 7.73),\n",
       " ('science-universities', 6.09),\n",
       " ('digital economics', 1.53)]"
      ]
     },
     "execution_count": 41,
     "metadata": {},
     "output_type": "execute_result"
    }
   ],
   "source": [
    "import cv2\n",
    "import numpy as np\n",
    "from collections import Counter\n",
    "from PIL import Image\n",
    "\n",
    "class ImageClassifier:\n",
    "    def __init__(self, threshold=40):\n",
    "        self.threshold = threshold\n",
    "        self.colors = {\n",
    "            'demographics': [[65, 145, 235], [75,165,200], [60, 125, 160]],\n",
    "            'culture': [[120, 110, 170], [100, 110, 200]],\n",
    "            'digital economics': [[95, 135, 193]],\n",
    "            'dorogi': [[210, 170, 85], [220, 200, 90]],\n",
    "            'ecology': [[150, 200, 130], [100, 185, 140], [75, 110, 85], [145, 180, 125], [80, 120, 60]],\n",
    "            'education': [[125, 185, 220], [85, 190, 190], [75,115,175], [75,120,195], [110,155,180], [55,100,150]],\n",
    "            'healthcare': [[200,45,75], [85,45,50], [175,55,65], [160,110,140], [180,50,50], [140,60,85]],\n",
    "            'international-cooperation': [[45,55,70], [75,80,95]],\n",
    "            'science-universities': [[60,135,185], [90,165,145], [80,165,120], [95,145,200], [80,140,205], [85,130,185]],\n",
    "            'tourism': [[65,125,115], [85,170,155]],\n",
    "        }\n",
    "\n",
    "    def count_matching_pixels(self, pil_image):\n",
    "        image = np.array(pil_image)\n",
    "        height, width, _ = image.shape\n",
    "        image_flat = image.reshape(-1, 3)\n",
    "        counts = Counter()\n",
    "\n",
    "        for color_name, color_values in self.colors.items():\n",
    "            for color in color_values:\n",
    "                color_array = np.array(color)\n",
    "                diff = np.abs(image_flat - color_array)\n",
    "                mask = np.sum(diff, axis=-1) <= self.threshold\n",
    "                counts[color_name] += np.count_nonzero(mask)\n",
    "\n",
    "        for key in counts.keys():\n",
    "            counts[key] /= h * w\n",
    "            counts[key] *= 100\n",
    "            counts[key] = round(counts[key], 2)\n",
    "        \n",
    "        return counts\n",
    "\n",
    "\n",
    "image_path = '/home/dmitrii/Desktop/hack_22_06_24_school_of_programming/data/classification_crop/demographics/zqVJpAyFy90.jpg'\n",
    "pil_image = Image.open(image_path)\n",
    "\n",
    "classifier = ImageClassifier()\n",
    "counts = classifier.count_matching_pixels(pil_image)\n",
    "\n",
    "top_5 = sorted(counts.items(), key=lambda item: item[1], reverse=True)[:5]\n",
    "\n",
    "top_5"
   ]
  },
  {
   "cell_type": "code",
   "execution_count": 2,
   "metadata": {},
   "outputs": [
    {
     "name": "stdout",
     "output_type": "stream",
     "text": [
      "['a', 'c']\n"
     ]
    }
   ],
   "source": [
    "from collections import Counter\n",
    "# Пример Counter\n",
    "counter = Counter({'a': 15, 'b': 9, 'c': 20, 'd': 5})\n",
    "\n",
    "# Получение ключей с значениями больше 10\n",
    "keys_with_values_greater_than_10 = [key for key, value in counter.items() if value > 10]\n",
    "\n",
    "print(keys_with_values_greater_than_10)"
   ]
  },
  {
   "cell_type": "code",
   "execution_count": null,
   "metadata": {},
   "outputs": [],
   "source": []
  },
  {
   "cell_type": "code",
   "execution_count": 5,
   "metadata": {},
   "outputs": [],
   "source": [
    "a = [(1,3), (4,2), (2,5)]\n",
    "\n",
    "a.sort(key=lambda k: k[1], reverse=True)"
   ]
  },
  {
   "cell_type": "code",
   "execution_count": 6,
   "metadata": {},
   "outputs": [
    {
     "data": {
      "text/plain": [
       "[(2, 5), (1, 3), (4, 2)]"
      ]
     },
     "execution_count": 6,
     "metadata": {},
     "output_type": "execute_result"
    }
   ],
   "source": [
    "a"
   ]
  },
  {
   "cell_type": "code",
   "execution_count": null,
   "metadata": {},
   "outputs": [],
   "source": []
  }
 ],
 "metadata": {
  "kernelspec": {
   "display_name": "venv_ilona",
   "language": "python",
   "name": "python3"
  },
  "language_info": {
   "codemirror_mode": {
    "name": "ipython",
    "version": 3
   },
   "file_extension": ".py",
   "mimetype": "text/x-python",
   "name": "python",
   "nbconvert_exporter": "python",
   "pygments_lexer": "ipython3",
   "version": "3.11.7"
  }
 },
 "nbformat": 4,
 "nbformat_minor": 2
}
