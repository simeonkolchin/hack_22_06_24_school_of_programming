{
 "cells": [
  {
   "cell_type": "code",
   "execution_count": 1,
   "metadata": {},
   "outputs": [
    {
     "name": "stdout",
     "output_type": "stream",
     "text": [
      "Аннотации успешно обновлены.\n",
      "Аннотации успешно обновлены.\n"
     ]
    }
   ],
   "source": [
    "import os\n",
    "\n",
    "def unify_classes_in_annotations(annotations_path, unified_class=0):\n",
    "    def process_annotation_file(file_path, unified_class):\n",
    "        with open(file_path, \"r\") as file:\n",
    "            lines = file.readlines()\n",
    "\n",
    "        new_lines = [f\"{unified_class}{line[line.find(' '):]}\" for line in lines]\n",
    "\n",
    "        with open(file_path, \"w\") as file:\n",
    "            file.writelines(new_lines)\n",
    "\n",
    "    for filename in os.listdir(annotations_path):\n",
    "        if filename.endswith(\".txt\"):\n",
    "            file_path = os.path.join(annotations_path, filename)\n",
    "            process_annotation_file(file_path, unified_class)\n",
    "\n",
    "    print(\"Аннотации успешно обновлены.\")\n",
    "\n",
    "\n",
    "unify_classes_in_annotations(\"/home/dmitrii/Desktop/hack_22_06_24_school_of_programming/data/detection_all/train/labels\")\n",
    "unify_classes_in_annotations(\"/home/dmitrii/Desktop/hack_22_06_24_school_of_programming/data/detection_all/valid/labels\")"
   ]
  },
  {
   "cell_type": "code",
   "execution_count": 4,
   "metadata": {},
   "outputs": [
    {
     "name": "stdout",
     "output_type": "stream",
     "text": [
      "New https://pypi.org/project/ultralytics/8.2.39 available 😃 Update with 'pip install -U ultralytics'\n",
      "Ultralytics YOLOv8.2.38 🚀 Python-3.11.7 torch-2.3.1+cu121 CUDA:0 (NVIDIA GeForce RTX 3090, 24257MiB)\n",
      "\u001b[34m\u001b[1mengine/trainer: \u001b[0mtask=detect, mode=train, model=yolov8m.yaml, data=../../data/detection_all/data.yaml, epochs=25, time=None, patience=100, batch=16, imgsz=1024, save=True, save_period=-1, cache=False, device=cuda, workers=10, project=None, name=train13, exist_ok=False, pretrained=True, optimizer=auto, verbose=True, seed=0, deterministic=True, single_cls=False, rect=False, cos_lr=False, close_mosaic=10, resume=False, amp=True, fraction=1.0, profile=False, freeze=None, multi_scale=False, overlap_mask=True, mask_ratio=4, dropout=0.0, val=True, split=val, save_json=False, save_hybrid=False, conf=None, iou=0.7, max_det=300, half=False, dnn=False, plots=True, source=None, vid_stride=1, stream_buffer=False, visualize=False, augment=False, agnostic_nms=False, classes=None, retina_masks=False, embed=None, show=False, save_frames=False, save_txt=False, save_conf=False, save_crop=False, show_labels=True, show_conf=True, show_boxes=True, line_width=None, format=torchscript, keras=False, optimize=False, int8=False, dynamic=False, simplify=False, opset=None, workspace=4, nms=False, lr0=0.01, lrf=0.01, momentum=0.937, weight_decay=0.0005, warmup_epochs=3.0, warmup_momentum=0.8, warmup_bias_lr=0.1, box=7.5, cls=0.5, dfl=1.5, pose=12.0, kobj=1.0, label_smoothing=0.0, nbs=64, hsv_h=0.015, hsv_s=0.7, hsv_v=0.4, degrees=0.0, translate=0.1, scale=0.5, shear=0.0, perspective=0.0, flipud=0.0, fliplr=0.5, bgr=0.0, mosaic=1.0, mixup=0.0, copy_paste=0.0, auto_augment=randaugment, erasing=0.4, crop_fraction=1.0, cfg=None, tracker=botsort.yaml, save_dir=runs/detect/train13\n",
      "Overriding model.yaml nc=80 with nc=1\n",
      "\n",
      "                   from  n    params  module                                       arguments                     \n",
      "  0                  -1  1      1392  ultralytics.nn.modules.conv.Conv             [3, 48, 3, 2]                 \n",
      "  1                  -1  1     41664  ultralytics.nn.modules.conv.Conv             [48, 96, 3, 2]                \n",
      "  2                  -1  2    111360  ultralytics.nn.modules.block.C2f             [96, 96, 2, True]             \n",
      "  3                  -1  1    166272  ultralytics.nn.modules.conv.Conv             [96, 192, 3, 2]               \n",
      "  4                  -1  4    813312  ultralytics.nn.modules.block.C2f             [192, 192, 4, True]           \n",
      "  5                  -1  1    664320  ultralytics.nn.modules.conv.Conv             [192, 384, 3, 2]              \n",
      "  6                  -1  4   3248640  ultralytics.nn.modules.block.C2f             [384, 384, 4, True]           \n",
      "  7                  -1  1   1991808  ultralytics.nn.modules.conv.Conv             [384, 576, 3, 2]              \n",
      "  8                  -1  2   3985920  ultralytics.nn.modules.block.C2f             [576, 576, 2, True]           \n",
      "  9                  -1  1    831168  ultralytics.nn.modules.block.SPPF            [576, 576, 5]                 \n",
      " 10                  -1  1         0  torch.nn.modules.upsampling.Upsample         [None, 2, 'nearest']          \n",
      " 11             [-1, 6]  1         0  ultralytics.nn.modules.conv.Concat           [1]                           \n",
      " 12                  -1  2   1993728  ultralytics.nn.modules.block.C2f             [960, 384, 2]                 \n",
      " 13                  -1  1         0  torch.nn.modules.upsampling.Upsample         [None, 2, 'nearest']          \n",
      " 14             [-1, 4]  1         0  ultralytics.nn.modules.conv.Concat           [1]                           \n",
      " 15                  -1  2    517632  ultralytics.nn.modules.block.C2f             [576, 192, 2]                 \n",
      " 16                  -1  1    332160  ultralytics.nn.modules.conv.Conv             [192, 192, 3, 2]              \n",
      " 17            [-1, 12]  1         0  ultralytics.nn.modules.conv.Concat           [1]                           \n",
      " 18                  -1  2   1846272  ultralytics.nn.modules.block.C2f             [576, 384, 2]                 \n",
      " 19                  -1  1   1327872  ultralytics.nn.modules.conv.Conv             [384, 384, 3, 2]              \n",
      " 20             [-1, 9]  1         0  ultralytics.nn.modules.conv.Concat           [1]                           \n",
      " 21                  -1  2   4207104  ultralytics.nn.modules.block.C2f             [960, 576, 2]                 \n",
      " 22        [15, 18, 21]  1   3776275  ultralytics.nn.modules.head.Detect           [1, [192, 384, 576]]          \n",
      "YOLOv8m summary: 295 layers, 25856899 parameters, 25856883 gradients, 79.1 GFLOPs\n",
      "\n",
      "Freezing layer 'model.22.dfl.conv.weight'\n",
      "\u001b[34m\u001b[1mAMP: \u001b[0mrunning Automatic Mixed Precision (AMP) checks with YOLOv8n...\n",
      "\u001b[34m\u001b[1mAMP: \u001b[0mchecks passed ✅\n"
     ]
    },
    {
     "name": "stderr",
     "output_type": "stream",
     "text": [
      "\u001b[34m\u001b[1mtrain: \u001b[0mScanning /home/dmitrii/Desktop/hack_22_06_24_school_of_programming/data/detection_all/train/labels.cache... 1842 images, 0 backgrounds, 0 corrupt: 100%|██████████| 1842/1842 [00:00<?, ?it/s]\n",
      "\u001b[34m\u001b[1mval: \u001b[0mScanning /home/dmitrii/Desktop/hack_22_06_24_school_of_programming/data/detection_all/valid/labels.cache... 103 images, 0 backgrounds, 0 corrupt: 100%|██████████| 103/103 [00:00<?, ?it/s]\n"
     ]
    },
    {
     "name": "stdout",
     "output_type": "stream",
     "text": [
      "Plotting labels to runs/detect/train13/labels.jpg... \n",
      "\u001b[34m\u001b[1moptimizer:\u001b[0m 'optimizer=auto' found, ignoring 'lr0=0.01' and 'momentum=0.937' and determining best 'optimizer', 'lr0' and 'momentum' automatically... \n",
      "\u001b[34m\u001b[1moptimizer:\u001b[0m AdamW(lr=0.002, momentum=0.9) with parameter groups 77 weight(decay=0.0), 84 weight(decay=0.0005), 83 bias(decay=0.0)\n",
      "Image sizes 1024 train, 1024 val\n",
      "Using 10 dataloader workers\n",
      "Logging results to \u001b[1mruns/detect/train13\u001b[0m\n",
      "Starting training for 25 epochs...\n",
      "\n",
      "      Epoch    GPU_mem   box_loss   cls_loss   dfl_loss  Instances       Size\n"
     ]
    },
    {
     "name": "stderr",
     "output_type": "stream",
     "text": [
      "       1/25      16.2G      3.122      4.849      3.897          3       1024: 100%|██████████| 116/116 [00:52<00:00,  2.21it/s]\n",
      "                 Class     Images  Instances      Box(P          R      mAP50  mAP50-95): 100%|██████████| 4/4 [00:00<00:00,  4.26it/s]"
     ]
    },
    {
     "name": "stdout",
     "output_type": "stream",
     "text": [
      "                   all        103        150     0.0394     0.0133    0.00306     0.0013\n"
     ]
    },
    {
     "name": "stderr",
     "output_type": "stream",
     "text": [
      "\n"
     ]
    },
    {
     "name": "stdout",
     "output_type": "stream",
     "text": [
      "\n",
      "      Epoch    GPU_mem   box_loss   cls_loss   dfl_loss  Instances       Size\n"
     ]
    },
    {
     "name": "stderr",
     "output_type": "stream",
     "text": [
      "       2/25      16.4G       2.47      3.036      3.062          6       1024: 100%|██████████| 116/116 [00:52<00:00,  2.20it/s]\n",
      "                 Class     Images  Instances      Box(P          R      mAP50  mAP50-95): 100%|██████████| 4/4 [00:00<00:00,  4.33it/s]"
     ]
    },
    {
     "name": "stdout",
     "output_type": "stream",
     "text": [
      "                   all        103        150      0.707      0.307      0.337      0.185\n"
     ]
    },
    {
     "name": "stderr",
     "output_type": "stream",
     "text": [
      "\n"
     ]
    },
    {
     "name": "stdout",
     "output_type": "stream",
     "text": [
      "\n",
      "      Epoch    GPU_mem   box_loss   cls_loss   dfl_loss  Instances       Size\n"
     ]
    },
    {
     "name": "stderr",
     "output_type": "stream",
     "text": [
      "       3/25      16.5G      1.987      2.048      2.614          2       1024: 100%|██████████| 116/116 [00:53<00:00,  2.18it/s]\n",
      "                 Class     Images  Instances      Box(P          R      mAP50  mAP50-95): 100%|██████████| 4/4 [00:00<00:00,  4.53it/s]"
     ]
    },
    {
     "name": "stdout",
     "output_type": "stream",
     "text": [
      "                   all        103        150      0.782       0.34      0.406      0.234\n"
     ]
    },
    {
     "name": "stderr",
     "output_type": "stream",
     "text": [
      "\n"
     ]
    },
    {
     "name": "stdout",
     "output_type": "stream",
     "text": [
      "\n",
      "      Epoch    GPU_mem   box_loss   cls_loss   dfl_loss  Instances       Size\n"
     ]
    },
    {
     "name": "stderr",
     "output_type": "stream",
     "text": [
      "       4/25      16.4G      1.809      1.784      2.398          3       1024: 100%|██████████| 116/116 [00:53<00:00,  2.18it/s]\n",
      "                 Class     Images  Instances      Box(P          R      mAP50  mAP50-95): 100%|██████████| 4/4 [00:00<00:00,  4.45it/s]"
     ]
    },
    {
     "name": "stdout",
     "output_type": "stream",
     "text": [
      "                   all        103        150      0.663       0.56      0.545      0.275\n"
     ]
    },
    {
     "name": "stderr",
     "output_type": "stream",
     "text": [
      "\n"
     ]
    },
    {
     "name": "stdout",
     "output_type": "stream",
     "text": [
      "\n",
      "      Epoch    GPU_mem   box_loss   cls_loss   dfl_loss  Instances       Size\n"
     ]
    },
    {
     "name": "stderr",
     "output_type": "stream",
     "text": [
      "       5/25      16.4G      1.655      1.551      2.224          1       1024: 100%|██████████| 116/116 [00:51<00:00,  2.25it/s]\n",
      "                 Class     Images  Instances      Box(P          R      mAP50  mAP50-95): 100%|██████████| 4/4 [00:00<00:00,  4.68it/s]"
     ]
    },
    {
     "name": "stdout",
     "output_type": "stream",
     "text": [
      "                   all        103        150      0.704       0.65      0.673      0.394\n"
     ]
    },
    {
     "name": "stderr",
     "output_type": "stream",
     "text": [
      "\n"
     ]
    },
    {
     "name": "stdout",
     "output_type": "stream",
     "text": [
      "\n",
      "      Epoch    GPU_mem   box_loss   cls_loss   dfl_loss  Instances       Size\n"
     ]
    },
    {
     "name": "stderr",
     "output_type": "stream",
     "text": [
      "       6/25      16.9G      1.585      1.402      2.147          5       1024: 100%|██████████| 116/116 [00:50<00:00,  2.29it/s]\n",
      "                 Class     Images  Instances      Box(P          R      mAP50  mAP50-95): 100%|██████████| 4/4 [00:00<00:00,  4.64it/s]"
     ]
    },
    {
     "name": "stdout",
     "output_type": "stream",
     "text": [
      "                   all        103        150      0.641      0.595      0.634      0.372\n"
     ]
    },
    {
     "name": "stderr",
     "output_type": "stream",
     "text": [
      "\n"
     ]
    },
    {
     "name": "stdout",
     "output_type": "stream",
     "text": [
      "\n",
      "      Epoch    GPU_mem   box_loss   cls_loss   dfl_loss  Instances       Size\n"
     ]
    },
    {
     "name": "stderr",
     "output_type": "stream",
     "text": [
      "       7/25      16.4G      1.485      1.235      2.044          3       1024: 100%|██████████| 116/116 [00:50<00:00,  2.28it/s]\n",
      "                 Class     Images  Instances      Box(P          R      mAP50  mAP50-95): 100%|██████████| 4/4 [00:00<00:00,  4.72it/s]"
     ]
    },
    {
     "name": "stdout",
     "output_type": "stream",
     "text": [
      "                   all        103        150      0.773      0.635      0.699      0.437\n"
     ]
    },
    {
     "name": "stderr",
     "output_type": "stream",
     "text": [
      "\n"
     ]
    },
    {
     "name": "stdout",
     "output_type": "stream",
     "text": [
      "\n",
      "      Epoch    GPU_mem   box_loss   cls_loss   dfl_loss  Instances       Size\n"
     ]
    },
    {
     "name": "stderr",
     "output_type": "stream",
     "text": [
      "       8/25      16.4G      1.416      1.147      1.976          4       1024: 100%|██████████| 116/116 [00:50<00:00,  2.28it/s]\n",
      "                 Class     Images  Instances      Box(P          R      mAP50  mAP50-95): 100%|██████████| 4/4 [00:00<00:00,  4.72it/s]"
     ]
    },
    {
     "name": "stdout",
     "output_type": "stream",
     "text": [
      "                   all        103        150      0.832      0.687      0.732       0.47\n"
     ]
    },
    {
     "name": "stderr",
     "output_type": "stream",
     "text": [
      "\n"
     ]
    },
    {
     "name": "stdout",
     "output_type": "stream",
     "text": [
      "\n",
      "      Epoch    GPU_mem   box_loss   cls_loss   dfl_loss  Instances       Size\n"
     ]
    },
    {
     "name": "stderr",
     "output_type": "stream",
     "text": [
      "       9/25      16.4G      1.371      1.072      1.909          4       1024: 100%|██████████| 116/116 [00:50<00:00,  2.29it/s]\n",
      "                 Class     Images  Instances      Box(P          R      mAP50  mAP50-95): 100%|██████████| 4/4 [00:00<00:00,  4.72it/s]"
     ]
    },
    {
     "name": "stdout",
     "output_type": "stream",
     "text": [
      "                   all        103        150      0.854      0.664      0.741      0.472\n"
     ]
    },
    {
     "name": "stderr",
     "output_type": "stream",
     "text": [
      "\n"
     ]
    },
    {
     "name": "stdout",
     "output_type": "stream",
     "text": [
      "\n",
      "      Epoch    GPU_mem   box_loss   cls_loss   dfl_loss  Instances       Size\n"
     ]
    },
    {
     "name": "stderr",
     "output_type": "stream",
     "text": [
      "      10/25      16.4G      1.334      1.044      1.882          2       1024: 100%|██████████| 116/116 [00:50<00:00,  2.28it/s]\n",
      "                 Class     Images  Instances      Box(P          R      mAP50  mAP50-95): 100%|██████████| 4/4 [00:00<00:00,  4.63it/s]"
     ]
    },
    {
     "name": "stdout",
     "output_type": "stream",
     "text": [
      "                   all        103        150      0.849       0.58      0.697      0.471\n"
     ]
    },
    {
     "name": "stderr",
     "output_type": "stream",
     "text": [
      "\n"
     ]
    },
    {
     "name": "stdout",
     "output_type": "stream",
     "text": [
      "\n",
      "      Epoch    GPU_mem   box_loss   cls_loss   dfl_loss  Instances       Size\n"
     ]
    },
    {
     "name": "stderr",
     "output_type": "stream",
     "text": [
      "      11/25      16.7G      1.305      1.017      1.864          1       1024: 100%|██████████| 116/116 [00:50<00:00,  2.28it/s]\n",
      "                 Class     Images  Instances      Box(P          R      mAP50  mAP50-95): 100%|██████████| 4/4 [00:00<00:00,  4.72it/s]"
     ]
    },
    {
     "name": "stdout",
     "output_type": "stream",
     "text": [
      "                   all        103        150      0.826      0.733      0.756      0.514\n"
     ]
    },
    {
     "name": "stderr",
     "output_type": "stream",
     "text": [
      "\n"
     ]
    },
    {
     "name": "stdout",
     "output_type": "stream",
     "text": [
      "\n",
      "      Epoch    GPU_mem   box_loss   cls_loss   dfl_loss  Instances       Size\n"
     ]
    },
    {
     "name": "stderr",
     "output_type": "stream",
     "text": [
      "      12/25      17.3G      1.238     0.9441       1.78          3       1024: 100%|██████████| 116/116 [00:50<00:00,  2.30it/s]\n",
      "                 Class     Images  Instances      Box(P          R      mAP50  mAP50-95): 100%|██████████| 4/4 [00:00<00:00,  4.71it/s]"
     ]
    },
    {
     "name": "stdout",
     "output_type": "stream",
     "text": [
      "                   all        103        150      0.877       0.76      0.806      0.551\n"
     ]
    },
    {
     "name": "stderr",
     "output_type": "stream",
     "text": [
      "\n"
     ]
    },
    {
     "name": "stdout",
     "output_type": "stream",
     "text": [
      "\n",
      "      Epoch    GPU_mem   box_loss   cls_loss   dfl_loss  Instances       Size\n"
     ]
    },
    {
     "name": "stderr",
     "output_type": "stream",
     "text": [
      "      13/25      16.7G      1.222     0.8696      1.753          2       1024: 100%|██████████| 116/116 [00:50<00:00,  2.28it/s]\n",
      "                 Class     Images  Instances      Box(P          R      mAP50  mAP50-95): 100%|██████████| 4/4 [00:00<00:00,  4.73it/s]"
     ]
    },
    {
     "name": "stdout",
     "output_type": "stream",
     "text": [
      "                   all        103        150      0.886       0.76      0.803      0.532\n"
     ]
    },
    {
     "name": "stderr",
     "output_type": "stream",
     "text": [
      "\n"
     ]
    },
    {
     "name": "stdout",
     "output_type": "stream",
     "text": [
      "\n",
      "      Epoch    GPU_mem   box_loss   cls_loss   dfl_loss  Instances       Size\n"
     ]
    },
    {
     "name": "stderr",
     "output_type": "stream",
     "text": [
      "      14/25      17.4G      1.177     0.8413      1.708          4       1024: 100%|██████████| 116/116 [00:50<00:00,  2.28it/s]\n",
      "                 Class     Images  Instances      Box(P          R      mAP50  mAP50-95): 100%|██████████| 4/4 [00:00<00:00,  4.67it/s]"
     ]
    },
    {
     "name": "stdout",
     "output_type": "stream",
     "text": [
      "                   all        103        150       0.87       0.76      0.817      0.548\n"
     ]
    },
    {
     "name": "stderr",
     "output_type": "stream",
     "text": [
      "\n"
     ]
    },
    {
     "name": "stdout",
     "output_type": "stream",
     "text": [
      "\n",
      "      Epoch    GPU_mem   box_loss   cls_loss   dfl_loss  Instances       Size\n"
     ]
    },
    {
     "name": "stderr",
     "output_type": "stream",
     "text": [
      "      15/25      17.3G      1.145      0.799      1.675          2       1024: 100%|██████████| 116/116 [00:50<00:00,  2.29it/s]\n",
      "                 Class     Images  Instances      Box(P          R      mAP50  mAP50-95): 100%|██████████| 4/4 [00:00<00:00,  4.66it/s]"
     ]
    },
    {
     "name": "stdout",
     "output_type": "stream",
     "text": [
      "                   all        103        150      0.888      0.807      0.857      0.584\n"
     ]
    },
    {
     "name": "stderr",
     "output_type": "stream",
     "text": [
      "\n"
     ]
    },
    {
     "name": "stdout",
     "output_type": "stream",
     "text": [
      "Closing dataloader mosaic\n",
      "\n",
      "      Epoch    GPU_mem   box_loss   cls_loss   dfl_loss  Instances       Size\n"
     ]
    },
    {
     "name": "stderr",
     "output_type": "stream",
     "text": [
      "      16/25      17.3G      1.084     0.6997       1.69          8       1024: 100%|██████████| 116/116 [00:51<00:00,  2.27it/s]\n",
      "                 Class     Images  Instances      Box(P          R      mAP50  mAP50-95): 100%|██████████| 4/4 [00:00<00:00,  4.71it/s]"
     ]
    },
    {
     "name": "stdout",
     "output_type": "stream",
     "text": [
      "                   all        103        150      0.929      0.787      0.857      0.594\n"
     ]
    },
    {
     "name": "stderr",
     "output_type": "stream",
     "text": [
      "\n"
     ]
    },
    {
     "name": "stdout",
     "output_type": "stream",
     "text": [
      "\n",
      "      Epoch    GPU_mem   box_loss   cls_loss   dfl_loss  Instances       Size\n"
     ]
    },
    {
     "name": "stderr",
     "output_type": "stream",
     "text": [
      "      17/25      17.3G      1.032     0.6555      1.641          3       1024: 100%|██████████| 116/116 [00:50<00:00,  2.28it/s]\n",
      "                 Class     Images  Instances      Box(P          R      mAP50  mAP50-95): 100%|██████████| 4/4 [00:00<00:00,  4.48it/s]"
     ]
    },
    {
     "name": "stdout",
     "output_type": "stream",
     "text": [
      "                   all        103        150      0.942      0.765      0.854      0.591\n"
     ]
    },
    {
     "name": "stderr",
     "output_type": "stream",
     "text": [
      "\n"
     ]
    },
    {
     "name": "stdout",
     "output_type": "stream",
     "text": [
      "\n",
      "      Epoch    GPU_mem   box_loss   cls_loss   dfl_loss  Instances       Size\n"
     ]
    },
    {
     "name": "stderr",
     "output_type": "stream",
     "text": [
      "      18/25      16.7G     0.9893     0.6201      1.602          2       1024: 100%|██████████| 116/116 [00:50<00:00,  2.29it/s]\n",
      "                 Class     Images  Instances      Box(P          R      mAP50  mAP50-95): 100%|██████████| 4/4 [00:00<00:00,  4.70it/s]"
     ]
    },
    {
     "name": "stdout",
     "output_type": "stream",
     "text": [
      "                   all        103        150      0.954      0.813      0.873      0.597\n"
     ]
    },
    {
     "name": "stderr",
     "output_type": "stream",
     "text": [
      "\n"
     ]
    },
    {
     "name": "stdout",
     "output_type": "stream",
     "text": [
      "\n",
      "      Epoch    GPU_mem   box_loss   cls_loss   dfl_loss  Instances       Size\n"
     ]
    },
    {
     "name": "stderr",
     "output_type": "stream",
     "text": [
      "      19/25      16.7G      0.975     0.5947       1.58          2       1024: 100%|██████████| 116/116 [00:50<00:00,  2.28it/s]\n",
      "                 Class     Images  Instances      Box(P          R      mAP50  mAP50-95): 100%|██████████| 4/4 [00:00<00:00,  4.68it/s]"
     ]
    },
    {
     "name": "stdout",
     "output_type": "stream",
     "text": [
      "                   all        103        150      0.957      0.813      0.898      0.612\n"
     ]
    },
    {
     "name": "stderr",
     "output_type": "stream",
     "text": [
      "\n"
     ]
    },
    {
     "name": "stdout",
     "output_type": "stream",
     "text": [
      "\n",
      "      Epoch    GPU_mem   box_loss   cls_loss   dfl_loss  Instances       Size\n"
     ]
    },
    {
     "name": "stderr",
     "output_type": "stream",
     "text": [
      "      20/25      16.7G     0.9528     0.5745      1.536          2       1024: 100%|██████████| 116/116 [00:50<00:00,  2.29it/s]\n",
      "                 Class     Images  Instances      Box(P          R      mAP50  mAP50-95): 100%|██████████| 4/4 [00:00<00:00,  4.78it/s]"
     ]
    },
    {
     "name": "stdout",
     "output_type": "stream",
     "text": [
      "                   all        103        150      0.906      0.835      0.889      0.621\n"
     ]
    },
    {
     "name": "stderr",
     "output_type": "stream",
     "text": [
      "\n"
     ]
    },
    {
     "name": "stdout",
     "output_type": "stream",
     "text": [
      "\n",
      "      Epoch    GPU_mem   box_loss   cls_loss   dfl_loss  Instances       Size\n"
     ]
    },
    {
     "name": "stderr",
     "output_type": "stream",
     "text": [
      "      21/25      17.3G     0.9396     0.5543      1.525          2       1024: 100%|██████████| 116/116 [00:50<00:00,  2.28it/s]\n",
      "                 Class     Images  Instances      Box(P          R      mAP50  mAP50-95): 100%|██████████| 4/4 [00:00<00:00,  4.71it/s]"
     ]
    },
    {
     "name": "stdout",
     "output_type": "stream",
     "text": [
      "                   all        103        150      0.943       0.82      0.873      0.592\n"
     ]
    },
    {
     "name": "stderr",
     "output_type": "stream",
     "text": [
      "\n"
     ]
    },
    {
     "name": "stdout",
     "output_type": "stream",
     "text": [
      "\n",
      "      Epoch    GPU_mem   box_loss   cls_loss   dfl_loss  Instances       Size\n"
     ]
    },
    {
     "name": "stderr",
     "output_type": "stream",
     "text": [
      "      22/25      17.3G     0.9058     0.5217      1.492          2       1024: 100%|██████████| 116/116 [00:50<00:00,  2.29it/s]\n",
      "                 Class     Images  Instances      Box(P          R      mAP50  mAP50-95): 100%|██████████| 4/4 [00:00<00:00,  4.75it/s]"
     ]
    },
    {
     "name": "stdout",
     "output_type": "stream",
     "text": [
      "                   all        103        150       0.96      0.833      0.896      0.619\n"
     ]
    },
    {
     "name": "stderr",
     "output_type": "stream",
     "text": [
      "\n"
     ]
    },
    {
     "name": "stdout",
     "output_type": "stream",
     "text": [
      "\n",
      "      Epoch    GPU_mem   box_loss   cls_loss   dfl_loss  Instances       Size\n"
     ]
    },
    {
     "name": "stderr",
     "output_type": "stream",
     "text": [
      "      23/25      16.5G     0.8883      0.524      1.482          2       1024: 100%|██████████| 116/116 [00:50<00:00,  2.29it/s]\n",
      "                 Class     Images  Instances      Box(P          R      mAP50  mAP50-95): 100%|██████████| 4/4 [00:00<00:00,  4.63it/s]"
     ]
    },
    {
     "name": "stdout",
     "output_type": "stream",
     "text": [
      "                   all        103        150      0.952      0.827      0.896      0.648\n"
     ]
    },
    {
     "name": "stderr",
     "output_type": "stream",
     "text": [
      "\n"
     ]
    },
    {
     "name": "stdout",
     "output_type": "stream",
     "text": [
      "\n",
      "      Epoch    GPU_mem   box_loss   cls_loss   dfl_loss  Instances       Size\n"
     ]
    },
    {
     "name": "stderr",
     "output_type": "stream",
     "text": [
      "      24/25      16.7G     0.8731     0.5125      1.452          3       1024: 100%|██████████| 116/116 [00:50<00:00,  2.29it/s]\n",
      "                 Class     Images  Instances      Box(P          R      mAP50  mAP50-95): 100%|██████████| 4/4 [00:00<00:00,  4.81it/s]"
     ]
    },
    {
     "name": "stdout",
     "output_type": "stream",
     "text": [
      "                   all        103        150      0.968       0.84      0.903      0.645\n"
     ]
    },
    {
     "name": "stderr",
     "output_type": "stream",
     "text": [
      "\n"
     ]
    },
    {
     "name": "stdout",
     "output_type": "stream",
     "text": [
      "\n",
      "      Epoch    GPU_mem   box_loss   cls_loss   dfl_loss  Instances       Size\n"
     ]
    },
    {
     "name": "stderr",
     "output_type": "stream",
     "text": [
      "      25/25      16.7G     0.8621     0.4931      1.441          3       1024: 100%|██████████| 116/116 [00:50<00:00,  2.30it/s]\n",
      "                 Class     Images  Instances      Box(P          R      mAP50  mAP50-95): 100%|██████████| 4/4 [00:00<00:00,  4.69it/s]"
     ]
    },
    {
     "name": "stdout",
     "output_type": "stream",
     "text": [
      "                   all        103        150      0.948      0.846      0.907       0.65\n"
     ]
    },
    {
     "name": "stderr",
     "output_type": "stream",
     "text": [
      "\n"
     ]
    },
    {
     "name": "stdout",
     "output_type": "stream",
     "text": [
      "\n",
      "25 epochs completed in 0.369 hours.\n",
      "Optimizer stripped from runs/detect/train13/weights/last.pt, 52.1MB\n",
      "Optimizer stripped from runs/detect/train13/weights/best.pt, 52.1MB\n",
      "\n",
      "Validating runs/detect/train13/weights/best.pt...\n",
      "Ultralytics YOLOv8.2.38 🚀 Python-3.11.7 torch-2.3.1+cu121 CUDA:0 (NVIDIA GeForce RTX 3090, 24257MiB)\n",
      "YOLOv8m summary (fused): 218 layers, 25840339 parameters, 0 gradients, 78.7 GFLOPs\n"
     ]
    },
    {
     "name": "stderr",
     "output_type": "stream",
     "text": [
      "                 Class     Images  Instances      Box(P          R      mAP50  mAP50-95): 100%|██████████| 4/4 [00:01<00:00,  3.86it/s]\n"
     ]
    },
    {
     "name": "stdout",
     "output_type": "stream",
     "text": [
      "                   all        103        150      0.948      0.845      0.907      0.651\n",
      "Speed: 0.2ms preprocess, 7.2ms inference, 0.0ms loss, 0.3ms postprocess per image\n",
      "Results saved to \u001b[1mruns/detect/train13\u001b[0m\n"
     ]
    },
    {
     "data": {
      "text/plain": [
       "ultralytics.utils.metrics.DetMetrics object with attributes:\n",
       "\n",
       "ap_class_index: array([0])\n",
       "box: ultralytics.utils.metrics.Metric object\n",
       "confusion_matrix: <ultralytics.utils.metrics.ConfusionMatrix object at 0x746b5445d290>\n",
       "curves: ['Precision-Recall(B)', 'F1-Confidence(B)', 'Precision-Confidence(B)', 'Recall-Confidence(B)']\n",
       "curves_results: [[array([          0,    0.001001,    0.002002,    0.003003,    0.004004,    0.005005,    0.006006,    0.007007,    0.008008,    0.009009,     0.01001,    0.011011,    0.012012,    0.013013,    0.014014,    0.015015,    0.016016,    0.017017,    0.018018,    0.019019,     0.02002,    0.021021,    0.022022,    0.023023,\n",
       "          0.024024,    0.025025,    0.026026,    0.027027,    0.028028,    0.029029,     0.03003,    0.031031,    0.032032,    0.033033,    0.034034,    0.035035,    0.036036,    0.037037,    0.038038,    0.039039,     0.04004,    0.041041,    0.042042,    0.043043,    0.044044,    0.045045,    0.046046,    0.047047,\n",
       "          0.048048,    0.049049,     0.05005,    0.051051,    0.052052,    0.053053,    0.054054,    0.055055,    0.056056,    0.057057,    0.058058,    0.059059,     0.06006,    0.061061,    0.062062,    0.063063,    0.064064,    0.065065,    0.066066,    0.067067,    0.068068,    0.069069,     0.07007,    0.071071,\n",
       "          0.072072,    0.073073,    0.074074,    0.075075,    0.076076,    0.077077,    0.078078,    0.079079,     0.08008,    0.081081,    0.082082,    0.083083,    0.084084,    0.085085,    0.086086,    0.087087,    0.088088,    0.089089,     0.09009,    0.091091,    0.092092,    0.093093,    0.094094,    0.095095,\n",
       "          0.096096,    0.097097,    0.098098,    0.099099,      0.1001,      0.1011,      0.1021,      0.1031,      0.1041,     0.10511,     0.10611,     0.10711,     0.10811,     0.10911,     0.11011,     0.11111,     0.11211,     0.11311,     0.11411,     0.11512,     0.11612,     0.11712,     0.11812,     0.11912,\n",
       "           0.12012,     0.12112,     0.12212,     0.12312,     0.12412,     0.12513,     0.12613,     0.12713,     0.12813,     0.12913,     0.13013,     0.13113,     0.13213,     0.13313,     0.13413,     0.13514,     0.13614,     0.13714,     0.13814,     0.13914,     0.14014,     0.14114,     0.14214,     0.14314,\n",
       "           0.14414,     0.14515,     0.14615,     0.14715,     0.14815,     0.14915,     0.15015,     0.15115,     0.15215,     0.15315,     0.15415,     0.15516,     0.15616,     0.15716,     0.15816,     0.15916,     0.16016,     0.16116,     0.16216,     0.16316,     0.16416,     0.16517,     0.16617,     0.16717,\n",
       "           0.16817,     0.16917,     0.17017,     0.17117,     0.17217,     0.17317,     0.17417,     0.17518,     0.17618,     0.17718,     0.17818,     0.17918,     0.18018,     0.18118,     0.18218,     0.18318,     0.18418,     0.18519,     0.18619,     0.18719,     0.18819,     0.18919,     0.19019,     0.19119,\n",
       "           0.19219,     0.19319,     0.19419,      0.1952,      0.1962,      0.1972,      0.1982,      0.1992,      0.2002,      0.2012,      0.2022,      0.2032,      0.2042,     0.20521,     0.20621,     0.20721,     0.20821,     0.20921,     0.21021,     0.21121,     0.21221,     0.21321,     0.21421,     0.21522,\n",
       "           0.21622,     0.21722,     0.21822,     0.21922,     0.22022,     0.22122,     0.22222,     0.22322,     0.22422,     0.22523,     0.22623,     0.22723,     0.22823,     0.22923,     0.23023,     0.23123,     0.23223,     0.23323,     0.23423,     0.23524,     0.23624,     0.23724,     0.23824,     0.23924,\n",
       "           0.24024,     0.24124,     0.24224,     0.24324,     0.24424,     0.24525,     0.24625,     0.24725,     0.24825,     0.24925,     0.25025,     0.25125,     0.25225,     0.25325,     0.25425,     0.25526,     0.25626,     0.25726,     0.25826,     0.25926,     0.26026,     0.26126,     0.26226,     0.26326,\n",
       "           0.26426,     0.26527,     0.26627,     0.26727,     0.26827,     0.26927,     0.27027,     0.27127,     0.27227,     0.27327,     0.27427,     0.27528,     0.27628,     0.27728,     0.27828,     0.27928,     0.28028,     0.28128,     0.28228,     0.28328,     0.28428,     0.28529,     0.28629,     0.28729,\n",
       "           0.28829,     0.28929,     0.29029,     0.29129,     0.29229,     0.29329,     0.29429,      0.2953,      0.2963,      0.2973,      0.2983,      0.2993,      0.3003,      0.3013,      0.3023,      0.3033,      0.3043,     0.30531,     0.30631,     0.30731,     0.30831,     0.30931,     0.31031,     0.31131,\n",
       "           0.31231,     0.31331,     0.31431,     0.31532,     0.31632,     0.31732,     0.31832,     0.31932,     0.32032,     0.32132,     0.32232,     0.32332,     0.32432,     0.32533,     0.32633,     0.32733,     0.32833,     0.32933,     0.33033,     0.33133,     0.33233,     0.33333,     0.33433,     0.33534,\n",
       "           0.33634,     0.33734,     0.33834,     0.33934,     0.34034,     0.34134,     0.34234,     0.34334,     0.34434,     0.34535,     0.34635,     0.34735,     0.34835,     0.34935,     0.35035,     0.35135,     0.35235,     0.35335,     0.35435,     0.35536,     0.35636,     0.35736,     0.35836,     0.35936,\n",
       "           0.36036,     0.36136,     0.36236,     0.36336,     0.36436,     0.36537,     0.36637,     0.36737,     0.36837,     0.36937,     0.37037,     0.37137,     0.37237,     0.37337,     0.37437,     0.37538,     0.37638,     0.37738,     0.37838,     0.37938,     0.38038,     0.38138,     0.38238,     0.38338,\n",
       "           0.38438,     0.38539,     0.38639,     0.38739,     0.38839,     0.38939,     0.39039,     0.39139,     0.39239,     0.39339,     0.39439,      0.3954,      0.3964,      0.3974,      0.3984,      0.3994,      0.4004,      0.4014,      0.4024,      0.4034,      0.4044,     0.40541,     0.40641,     0.40741,\n",
       "           0.40841,     0.40941,     0.41041,     0.41141,     0.41241,     0.41341,     0.41441,     0.41542,     0.41642,     0.41742,     0.41842,     0.41942,     0.42042,     0.42142,     0.42242,     0.42342,     0.42442,     0.42543,     0.42643,     0.42743,     0.42843,     0.42943,     0.43043,     0.43143,\n",
       "           0.43243,     0.43343,     0.43443,     0.43544,     0.43644,     0.43744,     0.43844,     0.43944,     0.44044,     0.44144,     0.44244,     0.44344,     0.44444,     0.44545,     0.44645,     0.44745,     0.44845,     0.44945,     0.45045,     0.45145,     0.45245,     0.45345,     0.45445,     0.45546,\n",
       "           0.45646,     0.45746,     0.45846,     0.45946,     0.46046,     0.46146,     0.46246,     0.46346,     0.46446,     0.46547,     0.46647,     0.46747,     0.46847,     0.46947,     0.47047,     0.47147,     0.47247,     0.47347,     0.47447,     0.47548,     0.47648,     0.47748,     0.47848,     0.47948,\n",
       "           0.48048,     0.48148,     0.48248,     0.48348,     0.48448,     0.48549,     0.48649,     0.48749,     0.48849,     0.48949,     0.49049,     0.49149,     0.49249,     0.49349,     0.49449,      0.4955,      0.4965,      0.4975,      0.4985,      0.4995,      0.5005,      0.5015,      0.5025,      0.5035,\n",
       "            0.5045,     0.50551,     0.50651,     0.50751,     0.50851,     0.50951,     0.51051,     0.51151,     0.51251,     0.51351,     0.51451,     0.51552,     0.51652,     0.51752,     0.51852,     0.51952,     0.52052,     0.52152,     0.52252,     0.52352,     0.52452,     0.52553,     0.52653,     0.52753,\n",
       "           0.52853,     0.52953,     0.53053,     0.53153,     0.53253,     0.53353,     0.53453,     0.53554,     0.53654,     0.53754,     0.53854,     0.53954,     0.54054,     0.54154,     0.54254,     0.54354,     0.54454,     0.54555,     0.54655,     0.54755,     0.54855,     0.54955,     0.55055,     0.55155,\n",
       "           0.55255,     0.55355,     0.55455,     0.55556,     0.55656,     0.55756,     0.55856,     0.55956,     0.56056,     0.56156,     0.56256,     0.56356,     0.56456,     0.56557,     0.56657,     0.56757,     0.56857,     0.56957,     0.57057,     0.57157,     0.57257,     0.57357,     0.57457,     0.57558,\n",
       "           0.57658,     0.57758,     0.57858,     0.57958,     0.58058,     0.58158,     0.58258,     0.58358,     0.58458,     0.58559,     0.58659,     0.58759,     0.58859,     0.58959,     0.59059,     0.59159,     0.59259,     0.59359,     0.59459,      0.5956,      0.5966,      0.5976,      0.5986,      0.5996,\n",
       "            0.6006,      0.6016,      0.6026,      0.6036,      0.6046,     0.60561,     0.60661,     0.60761,     0.60861,     0.60961,     0.61061,     0.61161,     0.61261,     0.61361,     0.61461,     0.61562,     0.61662,     0.61762,     0.61862,     0.61962,     0.62062,     0.62162,     0.62262,     0.62362,\n",
       "           0.62462,     0.62563,     0.62663,     0.62763,     0.62863,     0.62963,     0.63063,     0.63163,     0.63263,     0.63363,     0.63463,     0.63564,     0.63664,     0.63764,     0.63864,     0.63964,     0.64064,     0.64164,     0.64264,     0.64364,     0.64464,     0.64565,     0.64665,     0.64765,\n",
       "           0.64865,     0.64965,     0.65065,     0.65165,     0.65265,     0.65365,     0.65465,     0.65566,     0.65666,     0.65766,     0.65866,     0.65966,     0.66066,     0.66166,     0.66266,     0.66366,     0.66466,     0.66567,     0.66667,     0.66767,     0.66867,     0.66967,     0.67067,     0.67167,\n",
       "           0.67267,     0.67367,     0.67467,     0.67568,     0.67668,     0.67768,     0.67868,     0.67968,     0.68068,     0.68168,     0.68268,     0.68368,     0.68468,     0.68569,     0.68669,     0.68769,     0.68869,     0.68969,     0.69069,     0.69169,     0.69269,     0.69369,     0.69469,      0.6957,\n",
       "            0.6967,      0.6977,      0.6987,      0.6997,      0.7007,      0.7017,      0.7027,      0.7037,      0.7047,     0.70571,     0.70671,     0.70771,     0.70871,     0.70971,     0.71071,     0.71171,     0.71271,     0.71371,     0.71471,     0.71572,     0.71672,     0.71772,     0.71872,     0.71972,\n",
       "           0.72072,     0.72172,     0.72272,     0.72372,     0.72472,     0.72573,     0.72673,     0.72773,     0.72873,     0.72973,     0.73073,     0.73173,     0.73273,     0.73373,     0.73473,     0.73574,     0.73674,     0.73774,     0.73874,     0.73974,     0.74074,     0.74174,     0.74274,     0.74374,\n",
       "           0.74474,     0.74575,     0.74675,     0.74775,     0.74875,     0.74975,     0.75075,     0.75175,     0.75275,     0.75375,     0.75475,     0.75576,     0.75676,     0.75776,     0.75876,     0.75976,     0.76076,     0.76176,     0.76276,     0.76376,     0.76476,     0.76577,     0.76677,     0.76777,\n",
       "           0.76877,     0.76977,     0.77077,     0.77177,     0.77277,     0.77377,     0.77477,     0.77578,     0.77678,     0.77778,     0.77878,     0.77978,     0.78078,     0.78178,     0.78278,     0.78378,     0.78478,     0.78579,     0.78679,     0.78779,     0.78879,     0.78979,     0.79079,     0.79179,\n",
       "           0.79279,     0.79379,     0.79479,      0.7958,      0.7968,      0.7978,      0.7988,      0.7998,      0.8008,      0.8018,      0.8028,      0.8038,      0.8048,     0.80581,     0.80681,     0.80781,     0.80881,     0.80981,     0.81081,     0.81181,     0.81281,     0.81381,     0.81481,     0.81582,\n",
       "           0.81682,     0.81782,     0.81882,     0.81982,     0.82082,     0.82182,     0.82282,     0.82382,     0.82482,     0.82583,     0.82683,     0.82783,     0.82883,     0.82983,     0.83083,     0.83183,     0.83283,     0.83383,     0.83483,     0.83584,     0.83684,     0.83784,     0.83884,     0.83984,\n",
       "           0.84084,     0.84184,     0.84284,     0.84384,     0.84484,     0.84585,     0.84685,     0.84785,     0.84885,     0.84985,     0.85085,     0.85185,     0.85285,     0.85385,     0.85485,     0.85586,     0.85686,     0.85786,     0.85886,     0.85986,     0.86086,     0.86186,     0.86286,     0.86386,\n",
       "           0.86486,     0.86587,     0.86687,     0.86787,     0.86887,     0.86987,     0.87087,     0.87187,     0.87287,     0.87387,     0.87487,     0.87588,     0.87688,     0.87788,     0.87888,     0.87988,     0.88088,     0.88188,     0.88288,     0.88388,     0.88488,     0.88589,     0.88689,     0.88789,\n",
       "           0.88889,     0.88989,     0.89089,     0.89189,     0.89289,     0.89389,     0.89489,      0.8959,      0.8969,      0.8979,      0.8989,      0.8999,      0.9009,      0.9019,      0.9029,      0.9039,      0.9049,     0.90591,     0.90691,     0.90791,     0.90891,     0.90991,     0.91091,     0.91191,\n",
       "           0.91291,     0.91391,     0.91491,     0.91592,     0.91692,     0.91792,     0.91892,     0.91992,     0.92092,     0.92192,     0.92292,     0.92392,     0.92492,     0.92593,     0.92693,     0.92793,     0.92893,     0.92993,     0.93093,     0.93193,     0.93293,     0.93393,     0.93493,     0.93594,\n",
       "           0.93694,     0.93794,     0.93894,     0.93994,     0.94094,     0.94194,     0.94294,     0.94394,     0.94494,     0.94595,     0.94695,     0.94795,     0.94895,     0.94995,     0.95095,     0.95195,     0.95295,     0.95395,     0.95495,     0.95596,     0.95696,     0.95796,     0.95896,     0.95996,\n",
       "           0.96096,     0.96196,     0.96296,     0.96396,     0.96496,     0.96597,     0.96697,     0.96797,     0.96897,     0.96997,     0.97097,     0.97197,     0.97297,     0.97397,     0.97497,     0.97598,     0.97698,     0.97798,     0.97898,     0.97998,     0.98098,     0.98198,     0.98298,     0.98398,\n",
       "           0.98498,     0.98599,     0.98699,     0.98799,     0.98899,     0.98999,     0.99099,     0.99199,     0.99299,     0.99399,     0.99499,       0.996,       0.997,       0.998,       0.999,           1]), array([[          1,           1,           1,           1,           1,           1,           1,           1,           1,           1,           1,           1,           1,           1,           1,           1,           1,           1,           1,           1,           1,           1,           1,\n",
       "                  1,           1,           1,           1,           1,           1,           1,           1,           1,           1,           1,           1,           1,           1,           1,           1,           1,           1,           1,           1,           1,           1,           1,\n",
       "                  1,           1,           1,           1,           1,           1,           1,           1,           1,           1,           1,           1,           1,           1,           1,           1,           1,           1,           1,           1,           1,           1,           1,\n",
       "                  1,           1,           1,           1,           1,           1,           1,           1,           1,           1,           1,           1,           1,           1,           1,           1,           1,           1,           1,           1,           1,           1,           1,\n",
       "                  1,           1,           1,           1,           1,           1,           1,           1,           1,           1,           1,           1,           1,           1,           1,           1,           1,           1,           1,           1,           1,           1,           1,\n",
       "                  1,           1,           1,           1,           1,           1,           1,           1,           1,           1,           1,           1,           1,           1,           1,           1,           1,           1,           1,           1,           1,           1,           1,\n",
       "                  1,           1,           1,           1,           1,           1,           1,           1,           1,           1,           1,           1,           1,           1,           1,           1,           1,           1,           1,           1,           1,           1,           1,\n",
       "                  1,           1,           1,           1,           1,           1,           1,           1,           1,           1,           1,           1,           1,           1,           1,           1,           1,           1,           1,           1,           1,           1,           1,\n",
       "                  1,           1,           1,           1,           1,           1,           1,           1,           1,           1,           1,           1,           1,           1,           1,           1,           1,           1,           1,           1,           1,           1,           1,\n",
       "                  1,           1,           1,           1,           1,           1,           1,           1,           1,           1,           1,           1,           1,           1,           1,           1,           1,           1,           1,           1,           1,           1,           1,\n",
       "                  1,           1,           1,           1,           1,           1,           1,           1,           1,           1,           1,           1,           1,           1,           1,           1,           1,           1,           1,           1,           1,           1,           1,\n",
       "                  1,           1,           1,           1,           1,           1,           1,           1,           1,           1,           1,           1,           1,           1,           1,           1,           1,           1,           1,           1,           1,           1,           1,\n",
       "                  1,           1,           1,           1,           1,           1,           1,           1,           1,           1,           1,           1,           1,           1,           1,           1,           1,           1,           1,           1,           1,           1,           1,\n",
       "                  1,           1,           1,           1,           1,           1,           1,           1,           1,           1,           1,           1,           1,           1,           1,           1,           1,           1,           1,           1,           1,           1,           1,\n",
       "                  1,           1,           1,           1,           1,           1,           1,           1,           1,           1,           1,           1,           1,           1,           1,           1,           1,           1,           1,           1,           1,           1,           1,\n",
       "                  1,           1,           1,           1,           1,           1,           1,           1,           1,           1,           1,           1,           1,           1,           1,           1,           1,           1,           1,           1,           1,           1,           1,\n",
       "                  1,           1,           1,           1,           1,           1,           1,           1,           1,           1,           1,           1,           1,           1,           1,           1,           1,           1,           1,           1,           1,           1,           1,\n",
       "                  1,           1,           1,           1,           1,           1,           1,           1,           1,           1,           1,           1,           1,           1,           1,           1,           1,           1,           1,           1,           1,           1,           1,\n",
       "                  1,           1,           1,           1,           1,           1,           1,           1,           1,           1,           1,           1,           1,     0.98851,     0.98851,     0.98851,     0.98851,     0.98851,     0.98851,     0.98851,     0.98851,     0.98851,     0.98851,\n",
       "            0.98851,     0.98851,     0.98851,     0.98851,     0.98851,     0.98851,     0.98851,     0.98851,     0.98851,     0.98851,     0.98851,     0.98851,     0.98851,     0.98851,     0.98851,     0.98851,     0.98851,     0.98851,     0.98851,     0.98851,     0.98851,     0.98851,     0.98851,\n",
       "            0.98851,     0.98851,     0.98851,     0.98851,     0.98851,     0.98851,     0.98851,     0.98851,     0.98851,     0.98851,     0.98851,     0.98851,     0.98851,     0.98851,     0.98851,     0.98851,     0.98851,     0.98851,     0.98851,     0.98851,     0.98851,     0.98851,     0.98851,\n",
       "            0.98851,     0.98851,     0.98851,     0.98851,     0.98851,     0.98851,     0.98851,     0.98851,     0.98851,     0.98851,     0.98851,     0.98851,     0.98851,     0.98851,     0.98851,     0.98851,     0.98851,     0.98851,     0.98851,     0.98851,     0.98851,     0.98851,     0.98851,\n",
       "            0.98851,     0.98851,     0.98851,     0.98851,     0.98851,     0.98851,     0.98851,     0.98851,     0.98851,     0.98851,     0.98851,     0.98851,     0.98851,     0.98851,     0.98851,     0.98851,     0.98851,     0.98851,     0.98851,     0.98851,     0.98851,     0.98851,     0.98851,\n",
       "            0.98851,     0.98851,     0.98851,     0.98851,     0.98851,     0.98851,     0.98851,     0.98851,     0.98851,     0.98851,     0.98851,     0.98851,     0.98851,     0.98851,     0.98851,     0.98851,     0.98851,     0.98851,     0.98851,     0.98851,     0.98851,     0.98851,     0.98851,\n",
       "            0.98851,     0.98851,     0.98851,     0.98851,     0.98851,     0.98851,     0.98851,     0.98851,     0.98851,     0.98851,     0.98851,     0.98851,     0.98851,     0.98851,     0.98851,     0.98851,     0.98851,     0.98851,     0.98851,     0.98851,     0.98851,     0.97802,     0.97802,\n",
       "            0.97802,     0.97802,     0.97802,     0.97802,     0.97802,     0.97802,     0.97802,     0.97802,     0.97802,     0.97802,     0.97802,     0.97802,     0.97802,     0.97802,     0.97802,     0.97802,     0.97802,     0.97802,     0.97619,     0.97619,     0.97619,     0.97619,     0.97619,\n",
       "            0.97619,     0.97619,     0.97619,     0.97619,     0.97619,     0.97619,     0.97619,     0.97619,     0.97619,     0.97619,     0.97619,     0.97619,     0.97619,     0.97619,     0.97619,     0.97619,     0.97619,     0.97619,     0.97619,     0.97619,     0.97619,     0.97619,     0.97619,\n",
       "            0.97619,     0.97619,     0.97619,     0.97619,     0.97619,     0.97619,     0.97619,     0.97619,     0.97619,     0.97619,     0.97619,     0.97619,     0.97619,     0.97619,     0.97619,     0.97619,     0.97619,     0.97619,     0.97619,     0.97619,     0.97619,     0.97619,     0.97619,\n",
       "            0.97619,     0.97619,     0.97619,     0.97619,     0.97619,     0.97619,     0.97619,     0.97619,     0.97619,     0.97619,     0.97619,     0.97619,     0.97619,     0.97619,     0.97619,     0.97619,     0.97619,     0.97619,     0.97619,     0.97619,     0.97619,     0.97619,     0.97619,\n",
       "            0.97619,     0.97619,     0.97619,     0.97619,     0.97619,     0.97619,     0.97619,     0.97619,     0.97619,     0.97619,     0.97619,     0.97619,     0.97619,     0.97619,     0.97619,     0.97619,     0.97619,     0.97619,     0.97619,     0.97619,     0.97619,     0.97619,     0.97619,\n",
       "            0.97619,     0.97619,     0.97619,     0.97619,     0.97619,     0.97619,     0.97619,     0.97619,     0.97619,     0.97619,     0.97619,     0.97619,     0.97619,     0.97619,     0.97619,     0.97619,     0.97619,     0.97619,     0.97619,     0.97619,     0.97619,     0.97619,     0.97619,\n",
       "            0.97619,     0.97619,     0.97619,     0.97619,     0.97619,     0.97619,     0.97619,     0.97619,     0.97619,     0.97619,     0.97619,     0.97619,     0.97619,     0.97619,     0.97619,     0.97619,     0.97619,     0.97619,     0.97619,     0.97619,     0.97619,     0.97619,     0.97619,\n",
       "            0.97619,     0.97619,     0.97619,     0.97619,     0.97619,     0.97619,     0.97619,     0.97619,     0.97619,     0.97619,     0.97619,     0.97619,     0.97619,     0.97619,     0.97619,     0.97619,     0.97619,     0.97619,     0.97619,     0.97619,     0.97619,     0.97619,     0.97619,\n",
       "            0.97619,     0.97619,     0.97619,     0.97619,     0.97619,     0.97619,     0.97619,     0.97619,     0.97619,     0.97619,     0.97619,     0.97619,     0.97619,     0.97619,     0.97619,     0.97619,     0.97619,     0.97619,     0.97619,     0.97619,     0.97619,     0.97619,     0.97619,\n",
       "            0.97619,     0.97619,     0.97619,     0.97619,     0.97619,     0.97619,     0.97619,     0.97619,     0.97619,     0.97619,     0.97619,     0.97619,     0.97619,     0.97619,     0.97619,     0.97619,     0.97619,     0.97619,     0.97619,     0.97619,     0.97619,     0.97619,     0.97619,\n",
       "            0.97619,     0.97619,     0.97619,     0.97619,     0.97619,     0.97619,     0.97619,     0.97619,     0.97619,     0.97619,     0.97619,     0.97619,     0.97619,     0.97619,     0.97619,     0.96154,     0.96154,     0.96154,     0.96154,     0.96154,     0.96154,     0.96154,     0.96154,\n",
       "            0.96154,     0.96154,     0.96154,     0.96154,     0.96154,     0.95455,     0.95455,     0.95455,     0.95455,     0.95455,     0.95455,     0.95455,     0.94815,     0.94815,     0.94815,     0.94815,     0.94815,     0.94815,     0.94815,     0.94815,     0.94815,     0.94815,     0.94815,\n",
       "            0.94815,     0.94815,     0.87755,     0.87755,     0.87755,     0.87755,     0.87755,     0.87755,     0.87755,     0.83333,     0.83333,     0.83333,     0.83333,     0.83333,     0.83333,     0.82911,     0.82911,     0.82911,     0.82911,     0.82911,     0.82911,     0.82911,     0.78107,\n",
       "            0.78107,     0.78107,     0.78107,     0.78107,     0.78107,     0.78107,     0.74719,     0.74719,     0.74719,     0.74719,     0.74719,     0.74719,     0.73224,     0.73224,     0.73224,     0.73224,     0.73224,     0.73224,     0.73224,     0.70681,     0.70681,     0.70681,     0.70681,\n",
       "            0.70681,     0.70681,     0.70681,     0.66667,     0.66667,     0.66667,     0.66667,     0.66667,     0.66667,     0.62844,     0.62844,     0.62844,     0.62844,     0.62844,     0.62844,     0.62844,     0.56557,     0.56557,     0.56557,     0.56557,     0.56557,     0.56557,     0.56557,\n",
       "            0.53257,     0.53257,     0.53257,     0.53257,     0.53257,     0.53257,     0.42945,     0.42945,     0.42945,     0.42945,     0.42945,     0.42945,     0.42945,     0.22633,      0.2229,     0.21947,     0.21604,     0.21261,     0.20918,     0.20575,     0.20232,     0.19889,     0.19546,\n",
       "            0.19204,     0.18861,     0.18518,     0.18175,     0.17832,     0.17489,     0.17146,     0.16803,      0.1646,     0.16117,     0.15774,     0.15431,     0.15088,     0.14746,     0.14403,      0.1406,     0.13717,     0.13374,     0.13031,     0.12688,     0.12345,     0.12002,     0.11659,\n",
       "            0.11316,     0.10973,     0.10631,     0.10288,    0.099447,    0.096018,    0.092589,    0.089159,     0.08573,    0.082301,    0.078872,    0.075442,    0.072013,    0.068584,    0.065155,    0.061726,    0.058296,    0.054867,    0.051438,    0.048009,     0.04458,     0.04115,    0.037721,\n",
       "           0.034292,    0.030863,    0.027434,    0.024004,    0.020575,    0.017146,    0.013717,    0.010288,   0.0068584,   0.0034292,           0]]), 'Recall', 'Precision'], [array([          0,    0.001001,    0.002002,    0.003003,    0.004004,    0.005005,    0.006006,    0.007007,    0.008008,    0.009009,     0.01001,    0.011011,    0.012012,    0.013013,    0.014014,    0.015015,    0.016016,    0.017017,    0.018018,    0.019019,     0.02002,    0.021021,    0.022022,    0.023023,\n",
       "          0.024024,    0.025025,    0.026026,    0.027027,    0.028028,    0.029029,     0.03003,    0.031031,    0.032032,    0.033033,    0.034034,    0.035035,    0.036036,    0.037037,    0.038038,    0.039039,     0.04004,    0.041041,    0.042042,    0.043043,    0.044044,    0.045045,    0.046046,    0.047047,\n",
       "          0.048048,    0.049049,     0.05005,    0.051051,    0.052052,    0.053053,    0.054054,    0.055055,    0.056056,    0.057057,    0.058058,    0.059059,     0.06006,    0.061061,    0.062062,    0.063063,    0.064064,    0.065065,    0.066066,    0.067067,    0.068068,    0.069069,     0.07007,    0.071071,\n",
       "          0.072072,    0.073073,    0.074074,    0.075075,    0.076076,    0.077077,    0.078078,    0.079079,     0.08008,    0.081081,    0.082082,    0.083083,    0.084084,    0.085085,    0.086086,    0.087087,    0.088088,    0.089089,     0.09009,    0.091091,    0.092092,    0.093093,    0.094094,    0.095095,\n",
       "          0.096096,    0.097097,    0.098098,    0.099099,      0.1001,      0.1011,      0.1021,      0.1031,      0.1041,     0.10511,     0.10611,     0.10711,     0.10811,     0.10911,     0.11011,     0.11111,     0.11211,     0.11311,     0.11411,     0.11512,     0.11612,     0.11712,     0.11812,     0.11912,\n",
       "           0.12012,     0.12112,     0.12212,     0.12312,     0.12412,     0.12513,     0.12613,     0.12713,     0.12813,     0.12913,     0.13013,     0.13113,     0.13213,     0.13313,     0.13413,     0.13514,     0.13614,     0.13714,     0.13814,     0.13914,     0.14014,     0.14114,     0.14214,     0.14314,\n",
       "           0.14414,     0.14515,     0.14615,     0.14715,     0.14815,     0.14915,     0.15015,     0.15115,     0.15215,     0.15315,     0.15415,     0.15516,     0.15616,     0.15716,     0.15816,     0.15916,     0.16016,     0.16116,     0.16216,     0.16316,     0.16416,     0.16517,     0.16617,     0.16717,\n",
       "           0.16817,     0.16917,     0.17017,     0.17117,     0.17217,     0.17317,     0.17417,     0.17518,     0.17618,     0.17718,     0.17818,     0.17918,     0.18018,     0.18118,     0.18218,     0.18318,     0.18418,     0.18519,     0.18619,     0.18719,     0.18819,     0.18919,     0.19019,     0.19119,\n",
       "           0.19219,     0.19319,     0.19419,      0.1952,      0.1962,      0.1972,      0.1982,      0.1992,      0.2002,      0.2012,      0.2022,      0.2032,      0.2042,     0.20521,     0.20621,     0.20721,     0.20821,     0.20921,     0.21021,     0.21121,     0.21221,     0.21321,     0.21421,     0.21522,\n",
       "           0.21622,     0.21722,     0.21822,     0.21922,     0.22022,     0.22122,     0.22222,     0.22322,     0.22422,     0.22523,     0.22623,     0.22723,     0.22823,     0.22923,     0.23023,     0.23123,     0.23223,     0.23323,     0.23423,     0.23524,     0.23624,     0.23724,     0.23824,     0.23924,\n",
       "           0.24024,     0.24124,     0.24224,     0.24324,     0.24424,     0.24525,     0.24625,     0.24725,     0.24825,     0.24925,     0.25025,     0.25125,     0.25225,     0.25325,     0.25425,     0.25526,     0.25626,     0.25726,     0.25826,     0.25926,     0.26026,     0.26126,     0.26226,     0.26326,\n",
       "           0.26426,     0.26527,     0.26627,     0.26727,     0.26827,     0.26927,     0.27027,     0.27127,     0.27227,     0.27327,     0.27427,     0.27528,     0.27628,     0.27728,     0.27828,     0.27928,     0.28028,     0.28128,     0.28228,     0.28328,     0.28428,     0.28529,     0.28629,     0.28729,\n",
       "           0.28829,     0.28929,     0.29029,     0.29129,     0.29229,     0.29329,     0.29429,      0.2953,      0.2963,      0.2973,      0.2983,      0.2993,      0.3003,      0.3013,      0.3023,      0.3033,      0.3043,     0.30531,     0.30631,     0.30731,     0.30831,     0.30931,     0.31031,     0.31131,\n",
       "           0.31231,     0.31331,     0.31431,     0.31532,     0.31632,     0.31732,     0.31832,     0.31932,     0.32032,     0.32132,     0.32232,     0.32332,     0.32432,     0.32533,     0.32633,     0.32733,     0.32833,     0.32933,     0.33033,     0.33133,     0.33233,     0.33333,     0.33433,     0.33534,\n",
       "           0.33634,     0.33734,     0.33834,     0.33934,     0.34034,     0.34134,     0.34234,     0.34334,     0.34434,     0.34535,     0.34635,     0.34735,     0.34835,     0.34935,     0.35035,     0.35135,     0.35235,     0.35335,     0.35435,     0.35536,     0.35636,     0.35736,     0.35836,     0.35936,\n",
       "           0.36036,     0.36136,     0.36236,     0.36336,     0.36436,     0.36537,     0.36637,     0.36737,     0.36837,     0.36937,     0.37037,     0.37137,     0.37237,     0.37337,     0.37437,     0.37538,     0.37638,     0.37738,     0.37838,     0.37938,     0.38038,     0.38138,     0.38238,     0.38338,\n",
       "           0.38438,     0.38539,     0.38639,     0.38739,     0.38839,     0.38939,     0.39039,     0.39139,     0.39239,     0.39339,     0.39439,      0.3954,      0.3964,      0.3974,      0.3984,      0.3994,      0.4004,      0.4014,      0.4024,      0.4034,      0.4044,     0.40541,     0.40641,     0.40741,\n",
       "           0.40841,     0.40941,     0.41041,     0.41141,     0.41241,     0.41341,     0.41441,     0.41542,     0.41642,     0.41742,     0.41842,     0.41942,     0.42042,     0.42142,     0.42242,     0.42342,     0.42442,     0.42543,     0.42643,     0.42743,     0.42843,     0.42943,     0.43043,     0.43143,\n",
       "           0.43243,     0.43343,     0.43443,     0.43544,     0.43644,     0.43744,     0.43844,     0.43944,     0.44044,     0.44144,     0.44244,     0.44344,     0.44444,     0.44545,     0.44645,     0.44745,     0.44845,     0.44945,     0.45045,     0.45145,     0.45245,     0.45345,     0.45445,     0.45546,\n",
       "           0.45646,     0.45746,     0.45846,     0.45946,     0.46046,     0.46146,     0.46246,     0.46346,     0.46446,     0.46547,     0.46647,     0.46747,     0.46847,     0.46947,     0.47047,     0.47147,     0.47247,     0.47347,     0.47447,     0.47548,     0.47648,     0.47748,     0.47848,     0.47948,\n",
       "           0.48048,     0.48148,     0.48248,     0.48348,     0.48448,     0.48549,     0.48649,     0.48749,     0.48849,     0.48949,     0.49049,     0.49149,     0.49249,     0.49349,     0.49449,      0.4955,      0.4965,      0.4975,      0.4985,      0.4995,      0.5005,      0.5015,      0.5025,      0.5035,\n",
       "            0.5045,     0.50551,     0.50651,     0.50751,     0.50851,     0.50951,     0.51051,     0.51151,     0.51251,     0.51351,     0.51451,     0.51552,     0.51652,     0.51752,     0.51852,     0.51952,     0.52052,     0.52152,     0.52252,     0.52352,     0.52452,     0.52553,     0.52653,     0.52753,\n",
       "           0.52853,     0.52953,     0.53053,     0.53153,     0.53253,     0.53353,     0.53453,     0.53554,     0.53654,     0.53754,     0.53854,     0.53954,     0.54054,     0.54154,     0.54254,     0.54354,     0.54454,     0.54555,     0.54655,     0.54755,     0.54855,     0.54955,     0.55055,     0.55155,\n",
       "           0.55255,     0.55355,     0.55455,     0.55556,     0.55656,     0.55756,     0.55856,     0.55956,     0.56056,     0.56156,     0.56256,     0.56356,     0.56456,     0.56557,     0.56657,     0.56757,     0.56857,     0.56957,     0.57057,     0.57157,     0.57257,     0.57357,     0.57457,     0.57558,\n",
       "           0.57658,     0.57758,     0.57858,     0.57958,     0.58058,     0.58158,     0.58258,     0.58358,     0.58458,     0.58559,     0.58659,     0.58759,     0.58859,     0.58959,     0.59059,     0.59159,     0.59259,     0.59359,     0.59459,      0.5956,      0.5966,      0.5976,      0.5986,      0.5996,\n",
       "            0.6006,      0.6016,      0.6026,      0.6036,      0.6046,     0.60561,     0.60661,     0.60761,     0.60861,     0.60961,     0.61061,     0.61161,     0.61261,     0.61361,     0.61461,     0.61562,     0.61662,     0.61762,     0.61862,     0.61962,     0.62062,     0.62162,     0.62262,     0.62362,\n",
       "           0.62462,     0.62563,     0.62663,     0.62763,     0.62863,     0.62963,     0.63063,     0.63163,     0.63263,     0.63363,     0.63463,     0.63564,     0.63664,     0.63764,     0.63864,     0.63964,     0.64064,     0.64164,     0.64264,     0.64364,     0.64464,     0.64565,     0.64665,     0.64765,\n",
       "           0.64865,     0.64965,     0.65065,     0.65165,     0.65265,     0.65365,     0.65465,     0.65566,     0.65666,     0.65766,     0.65866,     0.65966,     0.66066,     0.66166,     0.66266,     0.66366,     0.66466,     0.66567,     0.66667,     0.66767,     0.66867,     0.66967,     0.67067,     0.67167,\n",
       "           0.67267,     0.67367,     0.67467,     0.67568,     0.67668,     0.67768,     0.67868,     0.67968,     0.68068,     0.68168,     0.68268,     0.68368,     0.68468,     0.68569,     0.68669,     0.68769,     0.68869,     0.68969,     0.69069,     0.69169,     0.69269,     0.69369,     0.69469,      0.6957,\n",
       "            0.6967,      0.6977,      0.6987,      0.6997,      0.7007,      0.7017,      0.7027,      0.7037,      0.7047,     0.70571,     0.70671,     0.70771,     0.70871,     0.70971,     0.71071,     0.71171,     0.71271,     0.71371,     0.71471,     0.71572,     0.71672,     0.71772,     0.71872,     0.71972,\n",
       "           0.72072,     0.72172,     0.72272,     0.72372,     0.72472,     0.72573,     0.72673,     0.72773,     0.72873,     0.72973,     0.73073,     0.73173,     0.73273,     0.73373,     0.73473,     0.73574,     0.73674,     0.73774,     0.73874,     0.73974,     0.74074,     0.74174,     0.74274,     0.74374,\n",
       "           0.74474,     0.74575,     0.74675,     0.74775,     0.74875,     0.74975,     0.75075,     0.75175,     0.75275,     0.75375,     0.75475,     0.75576,     0.75676,     0.75776,     0.75876,     0.75976,     0.76076,     0.76176,     0.76276,     0.76376,     0.76476,     0.76577,     0.76677,     0.76777,\n",
       "           0.76877,     0.76977,     0.77077,     0.77177,     0.77277,     0.77377,     0.77477,     0.77578,     0.77678,     0.77778,     0.77878,     0.77978,     0.78078,     0.78178,     0.78278,     0.78378,     0.78478,     0.78579,     0.78679,     0.78779,     0.78879,     0.78979,     0.79079,     0.79179,\n",
       "           0.79279,     0.79379,     0.79479,      0.7958,      0.7968,      0.7978,      0.7988,      0.7998,      0.8008,      0.8018,      0.8028,      0.8038,      0.8048,     0.80581,     0.80681,     0.80781,     0.80881,     0.80981,     0.81081,     0.81181,     0.81281,     0.81381,     0.81481,     0.81582,\n",
       "           0.81682,     0.81782,     0.81882,     0.81982,     0.82082,     0.82182,     0.82282,     0.82382,     0.82482,     0.82583,     0.82683,     0.82783,     0.82883,     0.82983,     0.83083,     0.83183,     0.83283,     0.83383,     0.83483,     0.83584,     0.83684,     0.83784,     0.83884,     0.83984,\n",
       "           0.84084,     0.84184,     0.84284,     0.84384,     0.84484,     0.84585,     0.84685,     0.84785,     0.84885,     0.84985,     0.85085,     0.85185,     0.85285,     0.85385,     0.85485,     0.85586,     0.85686,     0.85786,     0.85886,     0.85986,     0.86086,     0.86186,     0.86286,     0.86386,\n",
       "           0.86486,     0.86587,     0.86687,     0.86787,     0.86887,     0.86987,     0.87087,     0.87187,     0.87287,     0.87387,     0.87487,     0.87588,     0.87688,     0.87788,     0.87888,     0.87988,     0.88088,     0.88188,     0.88288,     0.88388,     0.88488,     0.88589,     0.88689,     0.88789,\n",
       "           0.88889,     0.88989,     0.89089,     0.89189,     0.89289,     0.89389,     0.89489,      0.8959,      0.8969,      0.8979,      0.8989,      0.8999,      0.9009,      0.9019,      0.9029,      0.9039,      0.9049,     0.90591,     0.90691,     0.90791,     0.90891,     0.90991,     0.91091,     0.91191,\n",
       "           0.91291,     0.91391,     0.91491,     0.91592,     0.91692,     0.91792,     0.91892,     0.91992,     0.92092,     0.92192,     0.92292,     0.92392,     0.92492,     0.92593,     0.92693,     0.92793,     0.92893,     0.92993,     0.93093,     0.93193,     0.93293,     0.93393,     0.93493,     0.93594,\n",
       "           0.93694,     0.93794,     0.93894,     0.93994,     0.94094,     0.94194,     0.94294,     0.94394,     0.94494,     0.94595,     0.94695,     0.94795,     0.94895,     0.94995,     0.95095,     0.95195,     0.95295,     0.95395,     0.95495,     0.95596,     0.95696,     0.95796,     0.95896,     0.95996,\n",
       "           0.96096,     0.96196,     0.96296,     0.96396,     0.96496,     0.96597,     0.96697,     0.96797,     0.96897,     0.96997,     0.97097,     0.97197,     0.97297,     0.97397,     0.97497,     0.97598,     0.97698,     0.97798,     0.97898,     0.97998,     0.98098,     0.98198,     0.98298,     0.98398,\n",
       "           0.98498,     0.98599,     0.98699,     0.98799,     0.98899,     0.98999,     0.99099,     0.99199,     0.99299,     0.99399,     0.99499,       0.996,       0.997,       0.998,       0.999,           1]), array([[    0.36697,     0.36697,     0.48268,     0.54016,     0.59263,      0.6301,     0.65878,      0.6738,     0.69122,     0.70234,      0.7138,     0.72969,     0.74363,     0.74612,     0.75585,     0.76701,     0.76604,     0.77272,     0.77759,     0.78112,     0.78325,     0.78774,     0.78889,\n",
       "            0.79121,     0.79001,     0.78882,     0.79041,     0.79472,     0.79866,     0.80114,     0.80139,     0.80319,     0.80815,     0.80829,     0.81063,     0.81527,      0.8161,     0.81693,     0.81932,     0.82236,     0.82485,     0.82615,     0.82399,      0.8273,     0.82853,     0.83047,\n",
       "            0.83334,     0.83557,     0.83762,     0.84003,     0.84078,     0.84154,      0.8423,      0.8453,     0.84592,     0.84653,     0.84715,     0.84776,      0.8488,     0.84995,     0.84891,      0.8471,     0.84746,     0.84781,     0.84817,     0.84853,     0.84888,     0.84924,     0.84959,\n",
       "            0.84729,      0.8501,     0.85477,     0.85569,      0.8566,     0.86015,     0.86051,     0.86088,     0.86125,     0.86161,     0.86198,     0.86234,     0.86271,     0.86312,     0.86358,     0.86404,     0.86449,     0.86495,     0.86541,     0.86587,     0.86635,     0.86682,      0.8673,\n",
       "            0.86778,     0.86826,     0.86865,     0.86826,     0.86788,      0.8675,     0.86711,     0.86673,     0.86634,     0.86596,     0.86557,     0.86519,      0.8649,     0.86509,     0.86528,     0.86547,     0.86567,     0.86586,     0.86605,     0.86624,     0.86644,     0.86663,     0.86682,\n",
       "            0.86701,     0.86721,      0.8674,     0.86759,     0.86778,     0.86814,     0.86851,     0.86888,     0.86925,     0.86962,     0.86999,     0.87035,     0.87072,     0.87107,     0.87142,     0.87177,     0.87212,     0.87247,     0.87281,     0.87316,     0.87351,     0.87404,     0.87486,\n",
       "            0.87568,      0.8765,     0.87689,     0.87713,     0.87737,     0.87761,     0.87785,     0.87809,     0.87833,     0.87857,     0.87881,     0.87905,     0.87929,     0.87953,     0.87976,     0.87993,      0.8801,     0.88028,     0.88045,     0.88063,      0.8808,     0.88098,     0.88115,\n",
       "            0.88132,      0.8815,     0.88167,     0.88185,     0.88202,     0.88219,     0.88237,     0.88254,     0.88271,     0.88298,     0.88328,     0.88359,     0.88389,     0.88419,     0.88449,     0.88479,      0.8851,      0.8854,      0.8857,     0.88584,     0.88587,     0.88591,     0.88595,\n",
       "            0.88598,     0.88602,     0.88606,     0.88609,     0.88613,     0.88617,     0.88621,     0.88624,     0.88628,     0.88632,     0.88635,     0.88639,     0.88643,     0.88646,      0.8865,     0.88654,     0.88657,     0.88661,     0.88665,     0.88668,     0.88672,     0.88676,      0.8868,\n",
       "            0.88683,     0.88687,     0.88691,     0.88694,     0.88698,     0.88702,     0.88705,     0.88709,     0.88713,     0.88716,      0.8872,     0.88724,     0.88727,     0.88731,     0.88735,     0.88739,     0.88742,     0.88746,      0.8875,     0.88753,     0.88757,     0.88761,     0.88764,\n",
       "            0.88768,     0.88772,     0.88775,     0.88779,     0.88783,     0.88786,      0.8879,     0.88794,     0.88797,     0.88801,     0.88805,     0.88808,     0.88812,     0.88816,     0.88819,     0.88823,     0.88827,      0.8883,     0.88834,     0.88838,     0.88841,     0.88845,     0.88849,\n",
       "            0.88852,     0.88856,      0.8886,     0.88863,     0.88867,     0.88871,     0.88875,     0.88878,     0.88882,     0.88886,      0.8889,     0.88906,     0.88922,     0.88939,     0.88955,     0.88971,     0.88987,     0.89003,     0.89019,     0.89035,     0.89051,     0.89067,     0.89083,\n",
       "            0.89099,     0.89115,     0.89131,     0.89148,     0.89164,      0.8918,     0.89196,     0.89211,     0.89227,     0.89243,     0.89258,     0.89274,     0.89289,     0.89305,     0.89321,     0.89336,     0.89352,     0.89368,     0.89383,     0.89399,     0.89414,      0.8943,     0.89445,\n",
       "            0.89461,     0.89476,     0.89492,     0.89508,     0.89522,     0.89535,     0.89549,     0.89563,     0.89577,      0.8959,     0.89604,     0.89618,     0.89631,     0.89645,     0.89659,     0.89673,     0.89686,       0.897,     0.89714,     0.89727,     0.89741,     0.89755,     0.89768,\n",
       "            0.89782,     0.89796,     0.89809,     0.89823,     0.89716,     0.89594,     0.89472,     0.89417,     0.89389,     0.89361,     0.89332,     0.89304,     0.89276,     0.89248,      0.8922,     0.89192,     0.89164,     0.89136,     0.89108,     0.89079,     0.89051,     0.89053,     0.89062,\n",
       "            0.89071,      0.8908,     0.89088,     0.89097,     0.89106,     0.89115,     0.89124,     0.89133,     0.89141,      0.8915,     0.89159,     0.89168,     0.89177,     0.89186,     0.89194,     0.89203,     0.89212,     0.89221,      0.8923,     0.89238,     0.89247,     0.89256,     0.89265,\n",
       "            0.89274,     0.89282,     0.89291,       0.893,     0.89309,     0.89317,     0.89326,     0.89335,     0.89344,     0.89353,     0.89361,     0.89304,     0.89245,     0.89185,     0.89125,     0.89065,     0.89005,     0.88987,     0.89037,     0.89087,     0.89137,     0.89187,     0.89237,\n",
       "            0.89283,     0.89197,     0.89112,     0.89026,      0.8894,     0.88887,     0.88884,      0.8888,     0.88876,     0.88872,     0.88869,     0.88865,     0.88861,     0.88858,     0.88854,      0.8885,     0.88846,     0.88843,     0.88839,     0.88835,     0.88831,     0.88828,     0.88824,\n",
       "             0.8882,     0.88817,     0.88813,     0.88809,     0.88805,     0.88802,     0.88798,     0.88794,      0.8879,     0.88787,     0.88783,     0.88779,     0.88775,     0.88772,     0.88768,     0.88764,      0.8876,     0.88757,     0.88753,     0.88749,     0.88746,     0.88742,     0.88738,\n",
       "            0.88734,     0.88731,     0.88727,     0.88723,     0.88719,     0.88716,     0.88712,     0.88708,     0.88704,     0.88701,     0.88697,     0.88693,     0.88689,     0.88686,     0.88682,     0.88678,     0.88674,     0.88671,     0.88667,     0.88663,     0.88659,     0.88656,     0.88652,\n",
       "            0.88648,     0.88645,     0.88641,     0.88637,     0.88633,      0.8863,     0.88626,     0.88622,     0.88618,     0.88615,     0.88611,     0.88607,     0.88603,       0.886,     0.88596,     0.88592,     0.88588,     0.88585,     0.88581,     0.88577,     0.88573,      0.8857,     0.88566,\n",
       "            0.88562,     0.88558,     0.88555,     0.88551,     0.88547,     0.88543,      0.8854,     0.88536,     0.88532,     0.88528,     0.88525,     0.88521,     0.88517,     0.88513,      0.8851,     0.88506,     0.88502,     0.88498,     0.88495,     0.88491,     0.88499,     0.88515,     0.88531,\n",
       "            0.88548,     0.88564,     0.88581,     0.88597,     0.88614,      0.8863,     0.88646,     0.88663,     0.88679,     0.88695,     0.88712,     0.88728,     0.88744,     0.88761,     0.88777,     0.88793,      0.8881,     0.88832,     0.88854,     0.88876,     0.88898,      0.8892,     0.88942,\n",
       "            0.88964,     0.88986,     0.89008,      0.8903,     0.89052,     0.89074,     0.89096,     0.89118,     0.89128,     0.89121,     0.89115,     0.89109,     0.89102,     0.89096,     0.89089,     0.89083,     0.89077,      0.8907,     0.89064,     0.89057,     0.89051,     0.89045,     0.89038,\n",
       "            0.89032,     0.89025,     0.89019,     0.89013,     0.89006,        0.89,     0.88993,     0.88987,     0.88981,     0.88974,     0.88968,     0.88961,     0.88955,     0.88949,     0.88942,     0.88936,     0.88929,     0.88923,     0.88917,      0.8891,     0.88904,     0.88897,     0.88891,\n",
       "            0.88885,     0.88878,     0.88872,     0.88865,     0.88859,     0.88852,     0.88846,      0.8884,     0.88833,     0.88827,      0.8882,     0.88814,     0.88808,     0.88801,     0.88795,     0.88788,     0.88782,     0.88775,     0.88769,     0.88763,     0.88756,      0.8875,     0.88743,\n",
       "            0.88737,      0.8873,     0.88693,     0.88623,     0.88554,     0.88485,     0.88415,     0.88346,     0.88308,     0.88288,     0.88267,     0.88247,     0.88226,     0.88206,     0.88185,     0.88165,     0.88145,     0.88124,     0.88104,     0.88083,     0.88063,     0.88042,     0.88022,\n",
       "            0.88001,     0.87981,      0.8796,      0.8794,     0.87919,     0.87408,     0.87266,     0.87124,     0.86775,      0.8664,     0.86604,     0.86568,     0.86532,     0.86496,      0.8646,     0.86424,     0.86388,     0.86352,     0.86316,      0.8628,     0.86244,     0.86214,     0.86184,\n",
       "            0.86154,     0.86124,     0.86094,     0.86064,     0.86034,     0.86004,     0.85974,     0.85944,     0.85914,     0.85884,     0.85854,     0.85824,     0.85777,     0.85729,      0.8568,     0.85632,     0.85583,     0.85534,     0.85485,     0.85437,     0.84937,     0.84715,     0.84084,\n",
       "            0.84043,     0.84002,     0.83961,      0.8392,     0.83879,     0.83838,     0.83797,     0.83756,     0.83715,     0.83674,      0.8314,     0.82988,     0.82835,     0.82604,     0.82298,     0.82066,     0.81845,     0.81751,     0.81658,     0.81564,      0.8147,     0.81329,     0.81013,\n",
       "            0.80289,     0.80049,     0.79417,     0.79277,     0.79138,     0.78926,     0.78598,     0.78268,     0.77974,     0.77724,     0.76938,     0.76599,     0.76258,     0.75965,     0.75706,     0.75393,     0.75078,     0.74928,     0.74778,     0.74628,      0.7371,     0.73705,     0.72997,\n",
       "            0.72398,     0.72554,       0.725,     0.72415,      0.7233,     0.72245,     0.72159,     0.72074,     0.71291,     0.70934,      0.7084,     0.70745,     0.70651,     0.70556,     0.70461,     0.70352,     0.70188,     0.70025,     0.69861,     0.69598,     0.69308,     0.69245,     0.69223,\n",
       "            0.69201,     0.69178,     0.69156,     0.69133,     0.69111,     0.69089,     0.69066,     0.69044,     0.69022,     0.68999,     0.68977,     0.68954,     0.68932,      0.6891,     0.68887,     0.68865,     0.68842,      0.6882,     0.68797,     0.68775,     0.68752,      0.6873,     0.68707,\n",
       "            0.68633,     0.68503,     0.68372,     0.68241,      0.6754,     0.67502,     0.67463,     0.67425,     0.67386,     0.67348,     0.67309,     0.67271,     0.67232,     0.67194,     0.67155,     0.67116,     0.67078,     0.67039,        0.67,     0.66962,     0.66341,     0.66277,     0.66213,\n",
       "            0.66149,     0.66085,     0.66021,     0.65957,     0.65893,     0.65828,     0.65515,     0.64729,     0.63846,     0.63688,     0.63531,     0.63372,     0.63133,     0.62878,     0.61836,     0.61279,     0.60842,     0.60574,     0.60309,     0.60131,     0.60029,     0.59926,     0.59824,\n",
       "            0.59721,     0.59618,     0.59551,     0.59633,     0.59714,     0.59795,     0.59664,     0.59472,     0.59279,     0.59126,     0.59046,     0.58966,     0.58886,     0.58806,     0.58726,     0.58646,     0.58565,      0.5848,     0.58328,     0.58175,     0.58022,     0.57869,     0.56827,\n",
       "            0.55616,       0.549,     0.53985,     0.52856,     0.52559,     0.52262,      0.5158,     0.51297,     0.51081,     0.50864,     0.49646,     0.49121,     0.48861,     0.48601,     0.48047,     0.47485,     0.47087,     0.46115,     0.45845,     0.45574,     0.45339,     0.45237,     0.45134,\n",
       "            0.45032,     0.44929,     0.44826,     0.44723,      0.4462,     0.43406,     0.41733,     0.40474,      0.3986,     0.37819,     0.36915,     0.36001,     0.35106,     0.34485,     0.33197,     0.32241,     0.30383,     0.29725,     0.27423,     0.26742,      0.2627,     0.25856,     0.25229,\n",
       "            0.24307,     0.23601,     0.21512,     0.20924,     0.20374,      0.1806,     0.17808,     0.17556,     0.17303,     0.15731,     0.14101,     0.12913,    0.097119,    0.080649,    0.067979,    0.059839,    0.053387,    0.046892,    0.040354,    0.037937,    0.036389,    0.034837,    0.033284,\n",
       "           0.031728,    0.030169,    0.028608,    0.027045,    0.024893,    0.022223,    0.019547,    0.016863,    0.014172,           0,           0,           0,           0,           0,           0,           0,           0,           0,           0,           0,           0,           0,           0,\n",
       "                  0,           0,           0,           0,           0,           0,           0,           0,           0,           0,           0,           0,           0,           0,           0,           0,           0,           0,           0,           0,           0,           0,           0,\n",
       "                  0,           0,           0,           0,           0,           0,           0,           0,           0,           0,           0,           0,           0,           0,           0,           0,           0,           0,           0,           0,           0,           0,           0,\n",
       "                  0,           0,           0,           0,           0,           0,           0,           0,           0,           0,           0,           0,           0,           0,           0,           0,           0,           0,           0,           0,           0,           0,           0,\n",
       "                  0,           0,           0,           0,           0,           0,           0,           0,           0,           0,           0]]), 'Confidence', 'F1'], [array([          0,    0.001001,    0.002002,    0.003003,    0.004004,    0.005005,    0.006006,    0.007007,    0.008008,    0.009009,     0.01001,    0.011011,    0.012012,    0.013013,    0.014014,    0.015015,    0.016016,    0.017017,    0.018018,    0.019019,     0.02002,    0.021021,    0.022022,    0.023023,\n",
       "          0.024024,    0.025025,    0.026026,    0.027027,    0.028028,    0.029029,     0.03003,    0.031031,    0.032032,    0.033033,    0.034034,    0.035035,    0.036036,    0.037037,    0.038038,    0.039039,     0.04004,    0.041041,    0.042042,    0.043043,    0.044044,    0.045045,    0.046046,    0.047047,\n",
       "          0.048048,    0.049049,     0.05005,    0.051051,    0.052052,    0.053053,    0.054054,    0.055055,    0.056056,    0.057057,    0.058058,    0.059059,     0.06006,    0.061061,    0.062062,    0.063063,    0.064064,    0.065065,    0.066066,    0.067067,    0.068068,    0.069069,     0.07007,    0.071071,\n",
       "          0.072072,    0.073073,    0.074074,    0.075075,    0.076076,    0.077077,    0.078078,    0.079079,     0.08008,    0.081081,    0.082082,    0.083083,    0.084084,    0.085085,    0.086086,    0.087087,    0.088088,    0.089089,     0.09009,    0.091091,    0.092092,    0.093093,    0.094094,    0.095095,\n",
       "          0.096096,    0.097097,    0.098098,    0.099099,      0.1001,      0.1011,      0.1021,      0.1031,      0.1041,     0.10511,     0.10611,     0.10711,     0.10811,     0.10911,     0.11011,     0.11111,     0.11211,     0.11311,     0.11411,     0.11512,     0.11612,     0.11712,     0.11812,     0.11912,\n",
       "           0.12012,     0.12112,     0.12212,     0.12312,     0.12412,     0.12513,     0.12613,     0.12713,     0.12813,     0.12913,     0.13013,     0.13113,     0.13213,     0.13313,     0.13413,     0.13514,     0.13614,     0.13714,     0.13814,     0.13914,     0.14014,     0.14114,     0.14214,     0.14314,\n",
       "           0.14414,     0.14515,     0.14615,     0.14715,     0.14815,     0.14915,     0.15015,     0.15115,     0.15215,     0.15315,     0.15415,     0.15516,     0.15616,     0.15716,     0.15816,     0.15916,     0.16016,     0.16116,     0.16216,     0.16316,     0.16416,     0.16517,     0.16617,     0.16717,\n",
       "           0.16817,     0.16917,     0.17017,     0.17117,     0.17217,     0.17317,     0.17417,     0.17518,     0.17618,     0.17718,     0.17818,     0.17918,     0.18018,     0.18118,     0.18218,     0.18318,     0.18418,     0.18519,     0.18619,     0.18719,     0.18819,     0.18919,     0.19019,     0.19119,\n",
       "           0.19219,     0.19319,     0.19419,      0.1952,      0.1962,      0.1972,      0.1982,      0.1992,      0.2002,      0.2012,      0.2022,      0.2032,      0.2042,     0.20521,     0.20621,     0.20721,     0.20821,     0.20921,     0.21021,     0.21121,     0.21221,     0.21321,     0.21421,     0.21522,\n",
       "           0.21622,     0.21722,     0.21822,     0.21922,     0.22022,     0.22122,     0.22222,     0.22322,     0.22422,     0.22523,     0.22623,     0.22723,     0.22823,     0.22923,     0.23023,     0.23123,     0.23223,     0.23323,     0.23423,     0.23524,     0.23624,     0.23724,     0.23824,     0.23924,\n",
       "           0.24024,     0.24124,     0.24224,     0.24324,     0.24424,     0.24525,     0.24625,     0.24725,     0.24825,     0.24925,     0.25025,     0.25125,     0.25225,     0.25325,     0.25425,     0.25526,     0.25626,     0.25726,     0.25826,     0.25926,     0.26026,     0.26126,     0.26226,     0.26326,\n",
       "           0.26426,     0.26527,     0.26627,     0.26727,     0.26827,     0.26927,     0.27027,     0.27127,     0.27227,     0.27327,     0.27427,     0.27528,     0.27628,     0.27728,     0.27828,     0.27928,     0.28028,     0.28128,     0.28228,     0.28328,     0.28428,     0.28529,     0.28629,     0.28729,\n",
       "           0.28829,     0.28929,     0.29029,     0.29129,     0.29229,     0.29329,     0.29429,      0.2953,      0.2963,      0.2973,      0.2983,      0.2993,      0.3003,      0.3013,      0.3023,      0.3033,      0.3043,     0.30531,     0.30631,     0.30731,     0.30831,     0.30931,     0.31031,     0.31131,\n",
       "           0.31231,     0.31331,     0.31431,     0.31532,     0.31632,     0.31732,     0.31832,     0.31932,     0.32032,     0.32132,     0.32232,     0.32332,     0.32432,     0.32533,     0.32633,     0.32733,     0.32833,     0.32933,     0.33033,     0.33133,     0.33233,     0.33333,     0.33433,     0.33534,\n",
       "           0.33634,     0.33734,     0.33834,     0.33934,     0.34034,     0.34134,     0.34234,     0.34334,     0.34434,     0.34535,     0.34635,     0.34735,     0.34835,     0.34935,     0.35035,     0.35135,     0.35235,     0.35335,     0.35435,     0.35536,     0.35636,     0.35736,     0.35836,     0.35936,\n",
       "           0.36036,     0.36136,     0.36236,     0.36336,     0.36436,     0.36537,     0.36637,     0.36737,     0.36837,     0.36937,     0.37037,     0.37137,     0.37237,     0.37337,     0.37437,     0.37538,     0.37638,     0.37738,     0.37838,     0.37938,     0.38038,     0.38138,     0.38238,     0.38338,\n",
       "           0.38438,     0.38539,     0.38639,     0.38739,     0.38839,     0.38939,     0.39039,     0.39139,     0.39239,     0.39339,     0.39439,      0.3954,      0.3964,      0.3974,      0.3984,      0.3994,      0.4004,      0.4014,      0.4024,      0.4034,      0.4044,     0.40541,     0.40641,     0.40741,\n",
       "           0.40841,     0.40941,     0.41041,     0.41141,     0.41241,     0.41341,     0.41441,     0.41542,     0.41642,     0.41742,     0.41842,     0.41942,     0.42042,     0.42142,     0.42242,     0.42342,     0.42442,     0.42543,     0.42643,     0.42743,     0.42843,     0.42943,     0.43043,     0.43143,\n",
       "           0.43243,     0.43343,     0.43443,     0.43544,     0.43644,     0.43744,     0.43844,     0.43944,     0.44044,     0.44144,     0.44244,     0.44344,     0.44444,     0.44545,     0.44645,     0.44745,     0.44845,     0.44945,     0.45045,     0.45145,     0.45245,     0.45345,     0.45445,     0.45546,\n",
       "           0.45646,     0.45746,     0.45846,     0.45946,     0.46046,     0.46146,     0.46246,     0.46346,     0.46446,     0.46547,     0.46647,     0.46747,     0.46847,     0.46947,     0.47047,     0.47147,     0.47247,     0.47347,     0.47447,     0.47548,     0.47648,     0.47748,     0.47848,     0.47948,\n",
       "           0.48048,     0.48148,     0.48248,     0.48348,     0.48448,     0.48549,     0.48649,     0.48749,     0.48849,     0.48949,     0.49049,     0.49149,     0.49249,     0.49349,     0.49449,      0.4955,      0.4965,      0.4975,      0.4985,      0.4995,      0.5005,      0.5015,      0.5025,      0.5035,\n",
       "            0.5045,     0.50551,     0.50651,     0.50751,     0.50851,     0.50951,     0.51051,     0.51151,     0.51251,     0.51351,     0.51451,     0.51552,     0.51652,     0.51752,     0.51852,     0.51952,     0.52052,     0.52152,     0.52252,     0.52352,     0.52452,     0.52553,     0.52653,     0.52753,\n",
       "           0.52853,     0.52953,     0.53053,     0.53153,     0.53253,     0.53353,     0.53453,     0.53554,     0.53654,     0.53754,     0.53854,     0.53954,     0.54054,     0.54154,     0.54254,     0.54354,     0.54454,     0.54555,     0.54655,     0.54755,     0.54855,     0.54955,     0.55055,     0.55155,\n",
       "           0.55255,     0.55355,     0.55455,     0.55556,     0.55656,     0.55756,     0.55856,     0.55956,     0.56056,     0.56156,     0.56256,     0.56356,     0.56456,     0.56557,     0.56657,     0.56757,     0.56857,     0.56957,     0.57057,     0.57157,     0.57257,     0.57357,     0.57457,     0.57558,\n",
       "           0.57658,     0.57758,     0.57858,     0.57958,     0.58058,     0.58158,     0.58258,     0.58358,     0.58458,     0.58559,     0.58659,     0.58759,     0.58859,     0.58959,     0.59059,     0.59159,     0.59259,     0.59359,     0.59459,      0.5956,      0.5966,      0.5976,      0.5986,      0.5996,\n",
       "            0.6006,      0.6016,      0.6026,      0.6036,      0.6046,     0.60561,     0.60661,     0.60761,     0.60861,     0.60961,     0.61061,     0.61161,     0.61261,     0.61361,     0.61461,     0.61562,     0.61662,     0.61762,     0.61862,     0.61962,     0.62062,     0.62162,     0.62262,     0.62362,\n",
       "           0.62462,     0.62563,     0.62663,     0.62763,     0.62863,     0.62963,     0.63063,     0.63163,     0.63263,     0.63363,     0.63463,     0.63564,     0.63664,     0.63764,     0.63864,     0.63964,     0.64064,     0.64164,     0.64264,     0.64364,     0.64464,     0.64565,     0.64665,     0.64765,\n",
       "           0.64865,     0.64965,     0.65065,     0.65165,     0.65265,     0.65365,     0.65465,     0.65566,     0.65666,     0.65766,     0.65866,     0.65966,     0.66066,     0.66166,     0.66266,     0.66366,     0.66466,     0.66567,     0.66667,     0.66767,     0.66867,     0.66967,     0.67067,     0.67167,\n",
       "           0.67267,     0.67367,     0.67467,     0.67568,     0.67668,     0.67768,     0.67868,     0.67968,     0.68068,     0.68168,     0.68268,     0.68368,     0.68468,     0.68569,     0.68669,     0.68769,     0.68869,     0.68969,     0.69069,     0.69169,     0.69269,     0.69369,     0.69469,      0.6957,\n",
       "            0.6967,      0.6977,      0.6987,      0.6997,      0.7007,      0.7017,      0.7027,      0.7037,      0.7047,     0.70571,     0.70671,     0.70771,     0.70871,     0.70971,     0.71071,     0.71171,     0.71271,     0.71371,     0.71471,     0.71572,     0.71672,     0.71772,     0.71872,     0.71972,\n",
       "           0.72072,     0.72172,     0.72272,     0.72372,     0.72472,     0.72573,     0.72673,     0.72773,     0.72873,     0.72973,     0.73073,     0.73173,     0.73273,     0.73373,     0.73473,     0.73574,     0.73674,     0.73774,     0.73874,     0.73974,     0.74074,     0.74174,     0.74274,     0.74374,\n",
       "           0.74474,     0.74575,     0.74675,     0.74775,     0.74875,     0.74975,     0.75075,     0.75175,     0.75275,     0.75375,     0.75475,     0.75576,     0.75676,     0.75776,     0.75876,     0.75976,     0.76076,     0.76176,     0.76276,     0.76376,     0.76476,     0.76577,     0.76677,     0.76777,\n",
       "           0.76877,     0.76977,     0.77077,     0.77177,     0.77277,     0.77377,     0.77477,     0.77578,     0.77678,     0.77778,     0.77878,     0.77978,     0.78078,     0.78178,     0.78278,     0.78378,     0.78478,     0.78579,     0.78679,     0.78779,     0.78879,     0.78979,     0.79079,     0.79179,\n",
       "           0.79279,     0.79379,     0.79479,      0.7958,      0.7968,      0.7978,      0.7988,      0.7998,      0.8008,      0.8018,      0.8028,      0.8038,      0.8048,     0.80581,     0.80681,     0.80781,     0.80881,     0.80981,     0.81081,     0.81181,     0.81281,     0.81381,     0.81481,     0.81582,\n",
       "           0.81682,     0.81782,     0.81882,     0.81982,     0.82082,     0.82182,     0.82282,     0.82382,     0.82482,     0.82583,     0.82683,     0.82783,     0.82883,     0.82983,     0.83083,     0.83183,     0.83283,     0.83383,     0.83483,     0.83584,     0.83684,     0.83784,     0.83884,     0.83984,\n",
       "           0.84084,     0.84184,     0.84284,     0.84384,     0.84484,     0.84585,     0.84685,     0.84785,     0.84885,     0.84985,     0.85085,     0.85185,     0.85285,     0.85385,     0.85485,     0.85586,     0.85686,     0.85786,     0.85886,     0.85986,     0.86086,     0.86186,     0.86286,     0.86386,\n",
       "           0.86486,     0.86587,     0.86687,     0.86787,     0.86887,     0.86987,     0.87087,     0.87187,     0.87287,     0.87387,     0.87487,     0.87588,     0.87688,     0.87788,     0.87888,     0.87988,     0.88088,     0.88188,     0.88288,     0.88388,     0.88488,     0.88589,     0.88689,     0.88789,\n",
       "           0.88889,     0.88989,     0.89089,     0.89189,     0.89289,     0.89389,     0.89489,      0.8959,      0.8969,      0.8979,      0.8989,      0.8999,      0.9009,      0.9019,      0.9029,      0.9039,      0.9049,     0.90591,     0.90691,     0.90791,     0.90891,     0.90991,     0.91091,     0.91191,\n",
       "           0.91291,     0.91391,     0.91491,     0.91592,     0.91692,     0.91792,     0.91892,     0.91992,     0.92092,     0.92192,     0.92292,     0.92392,     0.92492,     0.92593,     0.92693,     0.92793,     0.92893,     0.92993,     0.93093,     0.93193,     0.93293,     0.93393,     0.93493,     0.93594,\n",
       "           0.93694,     0.93794,     0.93894,     0.93994,     0.94094,     0.94194,     0.94294,     0.94394,     0.94494,     0.94595,     0.94695,     0.94795,     0.94895,     0.94995,     0.95095,     0.95195,     0.95295,     0.95395,     0.95495,     0.95596,     0.95696,     0.95796,     0.95896,     0.95996,\n",
       "           0.96096,     0.96196,     0.96296,     0.96396,     0.96496,     0.96597,     0.96697,     0.96797,     0.96897,     0.96997,     0.97097,     0.97197,     0.97297,     0.97397,     0.97497,     0.97598,     0.97698,     0.97798,     0.97898,     0.97998,     0.98098,     0.98198,     0.98298,     0.98398,\n",
       "           0.98498,     0.98599,     0.98699,     0.98799,     0.98899,     0.98999,     0.99099,     0.99199,     0.99299,     0.99399,     0.99499,       0.996,       0.997,       0.998,       0.999,           1]), array([[    0.22838,     0.22838,     0.32551,     0.38006,     0.43561,     0.47734,     0.51104,     0.53112,     0.55356,     0.57054,     0.58582,     0.60753,     0.62711,     0.63388,     0.64805,     0.66463,     0.66557,     0.67699,     0.68449,     0.68998,     0.69331,     0.70038,     0.70219,\n",
       "            0.70655,     0.70604,     0.70552,     0.70875,     0.71572,     0.72213,     0.72619,     0.73084,     0.73407,      0.7424,     0.74738,      0.7514,     0.75941,     0.76085,     0.76229,     0.76648,     0.77181,     0.77621,     0.78056,     0.77979,     0.78588,     0.78809,     0.79163,\n",
       "            0.79685,     0.80094,     0.80472,     0.80917,     0.81058,     0.81198,     0.81339,     0.81901,     0.82017,     0.82133,     0.82248,     0.82364,      0.8256,     0.82779,     0.82861,      0.8284,     0.82908,     0.82976,     0.83045,     0.83113,     0.83181,     0.83249,     0.83318,\n",
       "            0.83265,     0.84042,     0.84961,     0.85142,     0.85323,      0.8603,     0.86103,     0.86176,      0.8625,     0.86323,     0.86397,      0.8647,     0.86543,     0.86627,     0.86719,     0.86811,     0.86904,     0.86996,     0.87088,     0.87181,     0.87279,     0.87376,     0.87473,\n",
       "             0.8757,     0.87668,     0.87754,     0.87746,     0.87737,     0.87729,     0.87721,     0.87712,     0.87704,     0.87695,     0.87687,     0.87678,     0.87678,     0.87717,     0.87757,     0.87797,     0.87836,     0.87876,     0.87916,     0.87955,     0.87995,     0.88035,     0.88074,\n",
       "            0.88114,     0.88154,     0.88193,     0.88233,     0.88273,     0.88346,     0.88423,       0.885,     0.88577,     0.88653,      0.8873,     0.88807,     0.88884,     0.88957,     0.89029,     0.89102,     0.89175,     0.89248,     0.89321,     0.89394,     0.89466,     0.89578,     0.89751,\n",
       "            0.89923,     0.90095,     0.90178,     0.90229,      0.9028,     0.90331,     0.90382,     0.90433,     0.90484,     0.90535,     0.90585,     0.90636,     0.90687,     0.90738,     0.90787,     0.90824,     0.90861,     0.90898,     0.90935,     0.90973,      0.9101,     0.91047,     0.91084,\n",
       "            0.91121,     0.91158,     0.91196,     0.91233,      0.9127,     0.91307,     0.91344,     0.91382,     0.91419,     0.91476,     0.91541,     0.91606,     0.91671,     0.91736,     0.91801,     0.91866,     0.91931,     0.91996,     0.92061,     0.92091,     0.92099,     0.92107,     0.92115,\n",
       "            0.92123,     0.92131,     0.92139,     0.92147,     0.92155,     0.92163,     0.92171,     0.92179,     0.92187,     0.92195,     0.92203,     0.92211,     0.92219,     0.92227,     0.92235,     0.92243,     0.92251,     0.92259,     0.92267,     0.92275,     0.92283,     0.92291,     0.92299,\n",
       "            0.92307,     0.92315,     0.92323,     0.92331,     0.92339,     0.92347,     0.92355,     0.92363,     0.92371,     0.92379,     0.92387,     0.92395,     0.92403,     0.92411,     0.92419,     0.92427,     0.92435,     0.92443,     0.92451,     0.92459,     0.92467,     0.92475,     0.92483,\n",
       "            0.92491,     0.92499,     0.92507,     0.92515,     0.92523,     0.92531,     0.92539,     0.92547,     0.92555,     0.92563,     0.92571,     0.92579,     0.92587,     0.92594,     0.92602,      0.9261,     0.92618,     0.92626,     0.92634,     0.92642,      0.9265,     0.92658,     0.92666,\n",
       "            0.92674,     0.92682,      0.9269,     0.92698,     0.92706,     0.92714,     0.92722,      0.9273,     0.92738,     0.92746,     0.92756,     0.92792,     0.92827,     0.92862,     0.92897,     0.92932,     0.92967,     0.93002,     0.93038,     0.93073,     0.93108,     0.93143,     0.93178,\n",
       "            0.93213,     0.93248,     0.93283,     0.93319,     0.93354,     0.93389,     0.93424,     0.93459,     0.93493,     0.93527,     0.93562,     0.93596,      0.9363,     0.93665,     0.93699,     0.93733,     0.93768,     0.93802,     0.93836,     0.93871,     0.93905,     0.93939,     0.93974,\n",
       "            0.94008,     0.94042,     0.94077,     0.94111,     0.94142,     0.94173,     0.94203,     0.94234,     0.94264,     0.94294,     0.94325,     0.94355,     0.94386,     0.94416,     0.94446,     0.94477,     0.94507,     0.94538,     0.94568,     0.94598,     0.94629,     0.94659,      0.9469,\n",
       "             0.9472,     0.94751,     0.94781,     0.94811,     0.94804,     0.94792,      0.9478,     0.94774,     0.94771,     0.94768,     0.94766,     0.94763,      0.9476,     0.94757,     0.94754,     0.94751,     0.94749,     0.94746,     0.94743,      0.9474,     0.94737,     0.94753,     0.94773,\n",
       "            0.94793,     0.94813,     0.94833,     0.94853,     0.94873,     0.94893,     0.94913,     0.94933,     0.94953,     0.94973,     0.94993,     0.95013,     0.95033,     0.95053,     0.95073,     0.95093,     0.95113,     0.95133,     0.95153,     0.95174,     0.95194,     0.95214,     0.95234,\n",
       "            0.95254,     0.95274,     0.95294,     0.95314,     0.95334,     0.95354,     0.95374,     0.95394,     0.95414,     0.95434,     0.95454,     0.95449,     0.95444,     0.95439,     0.95434,     0.95428,     0.95423,     0.95463,     0.95579,     0.95695,     0.95811,     0.95926,     0.96042,\n",
       "            0.96154,     0.96147,     0.96141,     0.96134,     0.96128,     0.96124,     0.96124,     0.96123,     0.96123,     0.96123,     0.96123,     0.96122,     0.96122,     0.96122,     0.96121,     0.96121,     0.96121,     0.96121,      0.9612,      0.9612,      0.9612,     0.96119,     0.96119,\n",
       "            0.96119,     0.96119,     0.96118,     0.96118,     0.96118,     0.96117,     0.96117,     0.96117,     0.96117,     0.96116,     0.96116,     0.96116,     0.96115,     0.96115,     0.96115,     0.96115,     0.96114,     0.96114,     0.96114,     0.96113,     0.96113,     0.96113,     0.96113,\n",
       "            0.96112,     0.96112,     0.96112,     0.96111,     0.96111,     0.96111,     0.96111,      0.9611,      0.9611,      0.9611,     0.96109,     0.96109,     0.96109,     0.96109,     0.96108,     0.96108,     0.96108,     0.96107,     0.96107,     0.96107,     0.96107,     0.96106,     0.96106,\n",
       "            0.96106,     0.96105,     0.96105,     0.96105,     0.96105,     0.96104,     0.96104,     0.96104,     0.96104,     0.96103,     0.96103,     0.96103,     0.96102,     0.96102,     0.96102,     0.96102,     0.96101,     0.96101,     0.96101,       0.961,       0.961,       0.961,       0.961,\n",
       "            0.96099,     0.96099,     0.96099,     0.96098,     0.96098,     0.96098,     0.96098,     0.96097,     0.96097,     0.96097,     0.96096,     0.96096,     0.96096,     0.96096,     0.96095,     0.96095,     0.96095,     0.96094,     0.96094,     0.96094,     0.96116,     0.96155,     0.96194,\n",
       "            0.96232,     0.96271,      0.9631,     0.96349,     0.96387,     0.96426,     0.96465,     0.96504,     0.96543,     0.96581,      0.9662,     0.96659,     0.96698,     0.96736,     0.96775,     0.96814,     0.96854,     0.96906,     0.96959,     0.97011,     0.97064,     0.97116,     0.97169,\n",
       "            0.97221,     0.97274,     0.97326,     0.97379,     0.97431,     0.97484,     0.97536,     0.97589,     0.97619,     0.97619,     0.97618,     0.97618,     0.97618,     0.97617,     0.97617,     0.97617,     0.97616,     0.97616,     0.97616,     0.97616,     0.97615,     0.97615,     0.97615,\n",
       "            0.97614,     0.97614,     0.97614,     0.97613,     0.97613,     0.97613,     0.97613,     0.97612,     0.97612,     0.97612,     0.97611,     0.97611,     0.97611,      0.9761,      0.9761,      0.9761,      0.9761,     0.97609,     0.97609,     0.97609,     0.97608,     0.97608,     0.97608,\n",
       "            0.97607,     0.97607,     0.97607,     0.97607,     0.97606,     0.97606,     0.97606,     0.97605,     0.97605,     0.97605,     0.97604,     0.97604,     0.97604,     0.97603,     0.97603,     0.97603,     0.97603,     0.97602,     0.97602,     0.97602,     0.97601,     0.97601,     0.97601,\n",
       "              0.976,       0.976,     0.97598,     0.97595,     0.97592,     0.97588,     0.97585,     0.97582,      0.9758,     0.97579,     0.97578,     0.97577,     0.97576,     0.97575,     0.97574,     0.97573,     0.97572,     0.97571,      0.9757,     0.97569,     0.97568,     0.97567,     0.97566,\n",
       "            0.97565,     0.97564,     0.97563,     0.97562,     0.97561,     0.97536,      0.9753,     0.97523,     0.97505,     0.97499,     0.97497,     0.97495,     0.97493,     0.97491,      0.9749,     0.97488,     0.97486,     0.97484,     0.97483,     0.97481,     0.97479,     0.97477,     0.97476,\n",
       "            0.97474,     0.97473,     0.97471,      0.9747,     0.97468,     0.97467,     0.97465,     0.97464,     0.97462,     0.97461,     0.97459,     0.97458,     0.97455,     0.97453,      0.9745,     0.97448,     0.97446,     0.97443,     0.97441,     0.97438,     0.97412,     0.97401,     0.97368,\n",
       "            0.97366,     0.97364,     0.97362,     0.97359,     0.97357,     0.97355,     0.97353,     0.97351,     0.97349,     0.97346,     0.97318,      0.9731,     0.97301,     0.97289,     0.97272,     0.97259,     0.97247,     0.97242,     0.97237,     0.97232,     0.97226,     0.97218,     0.97201,\n",
       "            0.97159,     0.97146,     0.97109,     0.97101,     0.97092,      0.9708,      0.9706,     0.97041,     0.97023,     0.97008,     0.96959,     0.96938,     0.96916,     0.96898,     0.96881,     0.96861,      0.9684,     0.96831,     0.96821,     0.96811,     0.97283,     0.97795,     0.97762,\n",
       "            0.98201,     0.98776,     0.98849,     0.98847,     0.98845,     0.98842,      0.9884,     0.98838,     0.98818,     0.98809,     0.98807,     0.98804,     0.98802,       0.988,     0.98797,     0.98794,      0.9879,     0.98786,     0.98781,     0.98774,     0.98767,     0.98765,     0.98764,\n",
       "            0.98764,     0.98763,     0.98762,     0.98762,     0.98761,     0.98761,      0.9876,     0.98759,     0.98759,     0.98758,     0.98758,     0.98757,     0.98756,     0.98756,     0.98755,     0.98755,     0.98754,     0.98753,     0.98753,     0.98752,     0.98752,     0.98751,      0.9875,\n",
       "            0.98748,     0.98745,     0.98741,     0.98737,     0.98718,     0.98717,     0.98716,     0.98715,     0.98713,     0.98712,     0.98711,      0.9871,     0.98709,     0.98708,     0.98707,     0.98706,     0.98705,     0.98704,     0.98702,     0.98701,     0.98683,     0.98681,      0.9868,\n",
       "            0.98678,     0.98676,     0.98674,     0.98672,      0.9867,     0.98668,     0.98659,     0.98635,     0.98607,     0.98602,     0.98597,     0.98592,     0.98585,     0.98576,     0.98542,     0.98523,     0.98508,     0.98498,     0.98489,     0.98483,     0.98479,     0.98476,     0.98472,\n",
       "            0.98468,     0.98465,     0.98547,     0.98998,     0.99448,     0.99899,           1,           1,           1,           1,           1,           1,           1,           1,           1,           1,           1,           1,           1,           1,           1,           1,           1,\n",
       "                  1,           1,           1,           1,           1,           1,           1,           1,           1,           1,           1,           1,           1,           1,           1,           1,           1,           1,           1,           1,           1,           1,           1,\n",
       "                  1,           1,           1,           1,           1,           1,           1,           1,           1,           1,           1,           1,           1,           1,           1,           1,           1,           1,           1,           1,           1,           1,           1,\n",
       "                  1,           1,           1,           1,           1,           1,           1,           1,           1,           1,           1,           1,           1,           1,           1,           1,           1,           1,           1,           1,           1,           1,           1,\n",
       "                  1,           1,           1,           1,           1,           1,           1,           1,           1,           1,           1,           1,           1,           1,           1,           1,           1,           1,           1,           1,           1,           1,           1,\n",
       "                  1,           1,           1,           1,           1,           1,           1,           1,           1,           1,           1,           1,           1,           1,           1,           1,           1,           1,           1,           1,           1,           1,           1,\n",
       "                  1,           1,           1,           1,           1,           1,           1,           1,           1,           1,           1,           1,           1,           1,           1,           1,           1,           1,           1,           1,           1,           1,           1,\n",
       "                  1,           1,           1,           1,           1,           1,           1,           1,           1,           1,           1,           1,           1,           1,           1,           1,           1,           1,           1,           1,           1,           1,           1,\n",
       "                  1,           1,           1,           1,           1,           1,           1,           1,           1,           1,           1]]), 'Confidence', 'Precision'], [array([          0,    0.001001,    0.002002,    0.003003,    0.004004,    0.005005,    0.006006,    0.007007,    0.008008,    0.009009,     0.01001,    0.011011,    0.012012,    0.013013,    0.014014,    0.015015,    0.016016,    0.017017,    0.018018,    0.019019,     0.02002,    0.021021,    0.022022,    0.023023,\n",
       "          0.024024,    0.025025,    0.026026,    0.027027,    0.028028,    0.029029,     0.03003,    0.031031,    0.032032,    0.033033,    0.034034,    0.035035,    0.036036,    0.037037,    0.038038,    0.039039,     0.04004,    0.041041,    0.042042,    0.043043,    0.044044,    0.045045,    0.046046,    0.047047,\n",
       "          0.048048,    0.049049,     0.05005,    0.051051,    0.052052,    0.053053,    0.054054,    0.055055,    0.056056,    0.057057,    0.058058,    0.059059,     0.06006,    0.061061,    0.062062,    0.063063,    0.064064,    0.065065,    0.066066,    0.067067,    0.068068,    0.069069,     0.07007,    0.071071,\n",
       "          0.072072,    0.073073,    0.074074,    0.075075,    0.076076,    0.077077,    0.078078,    0.079079,     0.08008,    0.081081,    0.082082,    0.083083,    0.084084,    0.085085,    0.086086,    0.087087,    0.088088,    0.089089,     0.09009,    0.091091,    0.092092,    0.093093,    0.094094,    0.095095,\n",
       "          0.096096,    0.097097,    0.098098,    0.099099,      0.1001,      0.1011,      0.1021,      0.1031,      0.1041,     0.10511,     0.10611,     0.10711,     0.10811,     0.10911,     0.11011,     0.11111,     0.11211,     0.11311,     0.11411,     0.11512,     0.11612,     0.11712,     0.11812,     0.11912,\n",
       "           0.12012,     0.12112,     0.12212,     0.12312,     0.12412,     0.12513,     0.12613,     0.12713,     0.12813,     0.12913,     0.13013,     0.13113,     0.13213,     0.13313,     0.13413,     0.13514,     0.13614,     0.13714,     0.13814,     0.13914,     0.14014,     0.14114,     0.14214,     0.14314,\n",
       "           0.14414,     0.14515,     0.14615,     0.14715,     0.14815,     0.14915,     0.15015,     0.15115,     0.15215,     0.15315,     0.15415,     0.15516,     0.15616,     0.15716,     0.15816,     0.15916,     0.16016,     0.16116,     0.16216,     0.16316,     0.16416,     0.16517,     0.16617,     0.16717,\n",
       "           0.16817,     0.16917,     0.17017,     0.17117,     0.17217,     0.17317,     0.17417,     0.17518,     0.17618,     0.17718,     0.17818,     0.17918,     0.18018,     0.18118,     0.18218,     0.18318,     0.18418,     0.18519,     0.18619,     0.18719,     0.18819,     0.18919,     0.19019,     0.19119,\n",
       "           0.19219,     0.19319,     0.19419,      0.1952,      0.1962,      0.1972,      0.1982,      0.1992,      0.2002,      0.2012,      0.2022,      0.2032,      0.2042,     0.20521,     0.20621,     0.20721,     0.20821,     0.20921,     0.21021,     0.21121,     0.21221,     0.21321,     0.21421,     0.21522,\n",
       "           0.21622,     0.21722,     0.21822,     0.21922,     0.22022,     0.22122,     0.22222,     0.22322,     0.22422,     0.22523,     0.22623,     0.22723,     0.22823,     0.22923,     0.23023,     0.23123,     0.23223,     0.23323,     0.23423,     0.23524,     0.23624,     0.23724,     0.23824,     0.23924,\n",
       "           0.24024,     0.24124,     0.24224,     0.24324,     0.24424,     0.24525,     0.24625,     0.24725,     0.24825,     0.24925,     0.25025,     0.25125,     0.25225,     0.25325,     0.25425,     0.25526,     0.25626,     0.25726,     0.25826,     0.25926,     0.26026,     0.26126,     0.26226,     0.26326,\n",
       "           0.26426,     0.26527,     0.26627,     0.26727,     0.26827,     0.26927,     0.27027,     0.27127,     0.27227,     0.27327,     0.27427,     0.27528,     0.27628,     0.27728,     0.27828,     0.27928,     0.28028,     0.28128,     0.28228,     0.28328,     0.28428,     0.28529,     0.28629,     0.28729,\n",
       "           0.28829,     0.28929,     0.29029,     0.29129,     0.29229,     0.29329,     0.29429,      0.2953,      0.2963,      0.2973,      0.2983,      0.2993,      0.3003,      0.3013,      0.3023,      0.3033,      0.3043,     0.30531,     0.30631,     0.30731,     0.30831,     0.30931,     0.31031,     0.31131,\n",
       "           0.31231,     0.31331,     0.31431,     0.31532,     0.31632,     0.31732,     0.31832,     0.31932,     0.32032,     0.32132,     0.32232,     0.32332,     0.32432,     0.32533,     0.32633,     0.32733,     0.32833,     0.32933,     0.33033,     0.33133,     0.33233,     0.33333,     0.33433,     0.33534,\n",
       "           0.33634,     0.33734,     0.33834,     0.33934,     0.34034,     0.34134,     0.34234,     0.34334,     0.34434,     0.34535,     0.34635,     0.34735,     0.34835,     0.34935,     0.35035,     0.35135,     0.35235,     0.35335,     0.35435,     0.35536,     0.35636,     0.35736,     0.35836,     0.35936,\n",
       "           0.36036,     0.36136,     0.36236,     0.36336,     0.36436,     0.36537,     0.36637,     0.36737,     0.36837,     0.36937,     0.37037,     0.37137,     0.37237,     0.37337,     0.37437,     0.37538,     0.37638,     0.37738,     0.37838,     0.37938,     0.38038,     0.38138,     0.38238,     0.38338,\n",
       "           0.38438,     0.38539,     0.38639,     0.38739,     0.38839,     0.38939,     0.39039,     0.39139,     0.39239,     0.39339,     0.39439,      0.3954,      0.3964,      0.3974,      0.3984,      0.3994,      0.4004,      0.4014,      0.4024,      0.4034,      0.4044,     0.40541,     0.40641,     0.40741,\n",
       "           0.40841,     0.40941,     0.41041,     0.41141,     0.41241,     0.41341,     0.41441,     0.41542,     0.41642,     0.41742,     0.41842,     0.41942,     0.42042,     0.42142,     0.42242,     0.42342,     0.42442,     0.42543,     0.42643,     0.42743,     0.42843,     0.42943,     0.43043,     0.43143,\n",
       "           0.43243,     0.43343,     0.43443,     0.43544,     0.43644,     0.43744,     0.43844,     0.43944,     0.44044,     0.44144,     0.44244,     0.44344,     0.44444,     0.44545,     0.44645,     0.44745,     0.44845,     0.44945,     0.45045,     0.45145,     0.45245,     0.45345,     0.45445,     0.45546,\n",
       "           0.45646,     0.45746,     0.45846,     0.45946,     0.46046,     0.46146,     0.46246,     0.46346,     0.46446,     0.46547,     0.46647,     0.46747,     0.46847,     0.46947,     0.47047,     0.47147,     0.47247,     0.47347,     0.47447,     0.47548,     0.47648,     0.47748,     0.47848,     0.47948,\n",
       "           0.48048,     0.48148,     0.48248,     0.48348,     0.48448,     0.48549,     0.48649,     0.48749,     0.48849,     0.48949,     0.49049,     0.49149,     0.49249,     0.49349,     0.49449,      0.4955,      0.4965,      0.4975,      0.4985,      0.4995,      0.5005,      0.5015,      0.5025,      0.5035,\n",
       "            0.5045,     0.50551,     0.50651,     0.50751,     0.50851,     0.50951,     0.51051,     0.51151,     0.51251,     0.51351,     0.51451,     0.51552,     0.51652,     0.51752,     0.51852,     0.51952,     0.52052,     0.52152,     0.52252,     0.52352,     0.52452,     0.52553,     0.52653,     0.52753,\n",
       "           0.52853,     0.52953,     0.53053,     0.53153,     0.53253,     0.53353,     0.53453,     0.53554,     0.53654,     0.53754,     0.53854,     0.53954,     0.54054,     0.54154,     0.54254,     0.54354,     0.54454,     0.54555,     0.54655,     0.54755,     0.54855,     0.54955,     0.55055,     0.55155,\n",
       "           0.55255,     0.55355,     0.55455,     0.55556,     0.55656,     0.55756,     0.55856,     0.55956,     0.56056,     0.56156,     0.56256,     0.56356,     0.56456,     0.56557,     0.56657,     0.56757,     0.56857,     0.56957,     0.57057,     0.57157,     0.57257,     0.57357,     0.57457,     0.57558,\n",
       "           0.57658,     0.57758,     0.57858,     0.57958,     0.58058,     0.58158,     0.58258,     0.58358,     0.58458,     0.58559,     0.58659,     0.58759,     0.58859,     0.58959,     0.59059,     0.59159,     0.59259,     0.59359,     0.59459,      0.5956,      0.5966,      0.5976,      0.5986,      0.5996,\n",
       "            0.6006,      0.6016,      0.6026,      0.6036,      0.6046,     0.60561,     0.60661,     0.60761,     0.60861,     0.60961,     0.61061,     0.61161,     0.61261,     0.61361,     0.61461,     0.61562,     0.61662,     0.61762,     0.61862,     0.61962,     0.62062,     0.62162,     0.62262,     0.62362,\n",
       "           0.62462,     0.62563,     0.62663,     0.62763,     0.62863,     0.62963,     0.63063,     0.63163,     0.63263,     0.63363,     0.63463,     0.63564,     0.63664,     0.63764,     0.63864,     0.63964,     0.64064,     0.64164,     0.64264,     0.64364,     0.64464,     0.64565,     0.64665,     0.64765,\n",
       "           0.64865,     0.64965,     0.65065,     0.65165,     0.65265,     0.65365,     0.65465,     0.65566,     0.65666,     0.65766,     0.65866,     0.65966,     0.66066,     0.66166,     0.66266,     0.66366,     0.66466,     0.66567,     0.66667,     0.66767,     0.66867,     0.66967,     0.67067,     0.67167,\n",
       "           0.67267,     0.67367,     0.67467,     0.67568,     0.67668,     0.67768,     0.67868,     0.67968,     0.68068,     0.68168,     0.68268,     0.68368,     0.68468,     0.68569,     0.68669,     0.68769,     0.68869,     0.68969,     0.69069,     0.69169,     0.69269,     0.69369,     0.69469,      0.6957,\n",
       "            0.6967,      0.6977,      0.6987,      0.6997,      0.7007,      0.7017,      0.7027,      0.7037,      0.7047,     0.70571,     0.70671,     0.70771,     0.70871,     0.70971,     0.71071,     0.71171,     0.71271,     0.71371,     0.71471,     0.71572,     0.71672,     0.71772,     0.71872,     0.71972,\n",
       "           0.72072,     0.72172,     0.72272,     0.72372,     0.72472,     0.72573,     0.72673,     0.72773,     0.72873,     0.72973,     0.73073,     0.73173,     0.73273,     0.73373,     0.73473,     0.73574,     0.73674,     0.73774,     0.73874,     0.73974,     0.74074,     0.74174,     0.74274,     0.74374,\n",
       "           0.74474,     0.74575,     0.74675,     0.74775,     0.74875,     0.74975,     0.75075,     0.75175,     0.75275,     0.75375,     0.75475,     0.75576,     0.75676,     0.75776,     0.75876,     0.75976,     0.76076,     0.76176,     0.76276,     0.76376,     0.76476,     0.76577,     0.76677,     0.76777,\n",
       "           0.76877,     0.76977,     0.77077,     0.77177,     0.77277,     0.77377,     0.77477,     0.77578,     0.77678,     0.77778,     0.77878,     0.77978,     0.78078,     0.78178,     0.78278,     0.78378,     0.78478,     0.78579,     0.78679,     0.78779,     0.78879,     0.78979,     0.79079,     0.79179,\n",
       "           0.79279,     0.79379,     0.79479,      0.7958,      0.7968,      0.7978,      0.7988,      0.7998,      0.8008,      0.8018,      0.8028,      0.8038,      0.8048,     0.80581,     0.80681,     0.80781,     0.80881,     0.80981,     0.81081,     0.81181,     0.81281,     0.81381,     0.81481,     0.81582,\n",
       "           0.81682,     0.81782,     0.81882,     0.81982,     0.82082,     0.82182,     0.82282,     0.82382,     0.82482,     0.82583,     0.82683,     0.82783,     0.82883,     0.82983,     0.83083,     0.83183,     0.83283,     0.83383,     0.83483,     0.83584,     0.83684,     0.83784,     0.83884,     0.83984,\n",
       "           0.84084,     0.84184,     0.84284,     0.84384,     0.84484,     0.84585,     0.84685,     0.84785,     0.84885,     0.84985,     0.85085,     0.85185,     0.85285,     0.85385,     0.85485,     0.85586,     0.85686,     0.85786,     0.85886,     0.85986,     0.86086,     0.86186,     0.86286,     0.86386,\n",
       "           0.86486,     0.86587,     0.86687,     0.86787,     0.86887,     0.86987,     0.87087,     0.87187,     0.87287,     0.87387,     0.87487,     0.87588,     0.87688,     0.87788,     0.87888,     0.87988,     0.88088,     0.88188,     0.88288,     0.88388,     0.88488,     0.88589,     0.88689,     0.88789,\n",
       "           0.88889,     0.88989,     0.89089,     0.89189,     0.89289,     0.89389,     0.89489,      0.8959,      0.8969,      0.8979,      0.8989,      0.8999,      0.9009,      0.9019,      0.9029,      0.9039,      0.9049,     0.90591,     0.90691,     0.90791,     0.90891,     0.90991,     0.91091,     0.91191,\n",
       "           0.91291,     0.91391,     0.91491,     0.91592,     0.91692,     0.91792,     0.91892,     0.91992,     0.92092,     0.92192,     0.92292,     0.92392,     0.92492,     0.92593,     0.92693,     0.92793,     0.92893,     0.92993,     0.93093,     0.93193,     0.93293,     0.93393,     0.93493,     0.93594,\n",
       "           0.93694,     0.93794,     0.93894,     0.93994,     0.94094,     0.94194,     0.94294,     0.94394,     0.94494,     0.94595,     0.94695,     0.94795,     0.94895,     0.94995,     0.95095,     0.95195,     0.95295,     0.95395,     0.95495,     0.95596,     0.95696,     0.95796,     0.95896,     0.95996,\n",
       "           0.96096,     0.96196,     0.96296,     0.96396,     0.96496,     0.96597,     0.96697,     0.96797,     0.96897,     0.96997,     0.97097,     0.97197,     0.97297,     0.97397,     0.97497,     0.97598,     0.97698,     0.97798,     0.97898,     0.97998,     0.98098,     0.98198,     0.98298,     0.98398,\n",
       "           0.98498,     0.98599,     0.98699,     0.98799,     0.98899,     0.98999,     0.99099,     0.99199,     0.99299,     0.99399,     0.99499,       0.996,       0.997,       0.998,       0.999,           1]), array([[    0.93333,     0.93333,     0.93333,     0.93333,     0.92667,     0.92667,     0.92667,     0.92129,        0.92,     0.91333,     0.91333,     0.91333,     0.91333,     0.90667,     0.90667,     0.90667,     0.90223,         0.9,         0.9,         0.9,         0.9,         0.9,         0.9,\n",
       "            0.89891,     0.89667,     0.89443,     0.89333,     0.89333,     0.89333,     0.89333,       0.887,     0.88667,     0.88667,        0.88,        0.88,        0.88,        0.88,        0.88,        0.88,        0.88,        0.88,      0.8774,      0.8735,     0.87333,     0.87333,     0.87333,\n",
       "            0.87333,     0.87333,     0.87333,     0.87333,     0.87333,     0.87333,     0.87333,     0.87333,     0.87333,     0.87333,     0.87333,     0.87333,     0.87333,     0.87333,     0.87023,     0.86667,     0.86667,     0.86667,     0.86667,     0.86667,     0.86667,     0.86667,     0.86667,\n",
       "            0.86246,        0.86,        0.86,        0.86,        0.86,        0.86,        0.86,        0.86,        0.86,        0.86,        0.86,        0.86,        0.86,        0.86,        0.86,        0.86,        0.86,        0.86,        0.86,        0.86,        0.86,        0.86,        0.86,\n",
       "               0.86,        0.86,     0.85993,     0.85926,     0.85859,     0.85792,     0.85725,     0.85658,     0.85591,     0.85524,     0.85457,      0.8539,     0.85333,     0.85333,     0.85333,     0.85333,     0.85333,     0.85333,     0.85333,     0.85333,     0.85333,     0.85333,     0.85333,\n",
       "            0.85333,     0.85333,     0.85333,     0.85333,     0.85333,     0.85333,     0.85333,     0.85333,     0.85333,     0.85333,     0.85333,     0.85333,     0.85333,     0.85333,     0.85333,     0.85333,     0.85333,     0.85333,     0.85333,     0.85333,     0.85333,     0.85333,     0.85333,\n",
       "            0.85333,     0.85333,     0.85333,     0.85333,     0.85333,     0.85333,     0.85333,     0.85333,     0.85333,     0.85333,     0.85333,     0.85333,     0.85333,     0.85333,     0.85333,     0.85333,     0.85333,     0.85333,     0.85333,     0.85333,     0.85333,     0.85333,     0.85333,\n",
       "            0.85333,     0.85333,     0.85333,     0.85333,     0.85333,     0.85333,     0.85333,     0.85333,     0.85333,     0.85333,     0.85333,     0.85333,     0.85333,     0.85333,     0.85333,     0.85333,     0.85333,     0.85333,     0.85333,     0.85333,     0.85333,     0.85333,     0.85333,\n",
       "            0.85333,     0.85333,     0.85333,     0.85333,     0.85333,     0.85333,     0.85333,     0.85333,     0.85333,     0.85333,     0.85333,     0.85333,     0.85333,     0.85333,     0.85333,     0.85333,     0.85333,     0.85333,     0.85333,     0.85333,     0.85333,     0.85333,     0.85333,\n",
       "            0.85333,     0.85333,     0.85333,     0.85333,     0.85333,     0.85333,     0.85333,     0.85333,     0.85333,     0.85333,     0.85333,     0.85333,     0.85333,     0.85333,     0.85333,     0.85333,     0.85333,     0.85333,     0.85333,     0.85333,     0.85333,     0.85333,     0.85333,\n",
       "            0.85333,     0.85333,     0.85333,     0.85333,     0.85333,     0.85333,     0.85333,     0.85333,     0.85333,     0.85333,     0.85333,     0.85333,     0.85333,     0.85333,     0.85333,     0.85333,     0.85333,     0.85333,     0.85333,     0.85333,     0.85333,     0.85333,     0.85333,\n",
       "            0.85333,     0.85333,     0.85333,     0.85333,     0.85333,     0.85333,     0.85333,     0.85333,     0.85333,     0.85333,     0.85333,     0.85333,     0.85333,     0.85333,     0.85333,     0.85333,     0.85333,     0.85333,     0.85333,     0.85333,     0.85333,     0.85333,     0.85333,\n",
       "            0.85333,     0.85333,     0.85333,     0.85333,     0.85333,     0.85333,     0.85333,     0.85333,     0.85333,     0.85333,     0.85333,     0.85333,     0.85333,     0.85333,     0.85333,     0.85333,     0.85333,     0.85333,     0.85333,     0.85333,     0.85333,     0.85333,     0.85333,\n",
       "            0.85333,     0.85333,     0.85333,     0.85333,     0.85333,     0.85333,     0.85333,     0.85333,     0.85333,     0.85333,     0.85333,     0.85333,     0.85333,     0.85333,     0.85333,     0.85333,     0.85333,     0.85333,     0.85333,     0.85333,     0.85333,     0.85333,     0.85333,\n",
       "            0.85333,     0.85333,     0.85333,     0.85333,     0.85147,     0.84937,     0.84727,     0.84632,     0.84584,     0.84536,     0.84489,     0.84441,     0.84393,     0.84345,     0.84297,     0.84249,     0.84201,     0.84153,     0.84105,     0.84057,     0.84009,        0.84,        0.84,\n",
       "               0.84,        0.84,        0.84,        0.84,        0.84,        0.84,        0.84,        0.84,        0.84,        0.84,        0.84,        0.84,        0.84,        0.84,        0.84,        0.84,        0.84,        0.84,        0.84,        0.84,        0.84,        0.84,        0.84,\n",
       "               0.84,        0.84,        0.84,        0.84,        0.84,        0.84,        0.84,        0.84,        0.84,        0.84,        0.84,     0.83903,     0.83802,       0.837,     0.83599,     0.83498,     0.83397,     0.83333,     0.83333,     0.83333,     0.83333,     0.83333,     0.83333,\n",
       "            0.83328,     0.83185,     0.83041,     0.82897,     0.82753,     0.82664,     0.82658,     0.82652,     0.82645,     0.82639,     0.82633,     0.82627,      0.8262,     0.82614,     0.82608,     0.82602,     0.82596,     0.82589,     0.82583,     0.82577,     0.82571,     0.82564,     0.82558,\n",
       "            0.82552,     0.82546,     0.82539,     0.82533,     0.82527,     0.82521,     0.82514,     0.82508,     0.82502,     0.82496,     0.82489,     0.82483,     0.82477,     0.82471,     0.82464,     0.82458,     0.82452,     0.82446,      0.8244,     0.82433,     0.82427,     0.82421,     0.82415,\n",
       "            0.82408,     0.82402,     0.82396,      0.8239,     0.82383,     0.82377,     0.82371,     0.82365,     0.82358,     0.82352,     0.82346,      0.8234,     0.82333,     0.82327,     0.82321,     0.82315,     0.82308,     0.82302,     0.82296,      0.8229,     0.82283,     0.82277,     0.82271,\n",
       "            0.82265,     0.82259,     0.82252,     0.82246,      0.8224,     0.82234,     0.82227,     0.82221,     0.82215,     0.82209,     0.82202,     0.82196,      0.8219,     0.82184,     0.82177,     0.82171,     0.82165,     0.82159,     0.82152,     0.82146,      0.8214,     0.82134,     0.82127,\n",
       "            0.82121,     0.82115,     0.82109,     0.82103,     0.82096,      0.8209,     0.82084,     0.82078,     0.82071,     0.82065,     0.82059,     0.82053,     0.82046,      0.8204,     0.82034,     0.82028,     0.82021,     0.82015,     0.82009,     0.82003,        0.82,        0.82,        0.82,\n",
       "               0.82,        0.82,        0.82,        0.82,        0.82,        0.82,        0.82,        0.82,        0.82,        0.82,        0.82,        0.82,        0.82,        0.82,        0.82,        0.82,        0.82,        0.82,        0.82,        0.82,        0.82,        0.82,        0.82,\n",
       "               0.82,        0.82,        0.82,        0.82,        0.82,        0.82,        0.82,        0.82,     0.81995,     0.81985,     0.81974,     0.81964,     0.81953,     0.81942,     0.81932,     0.81921,     0.81911,       0.819,      0.8189,     0.81879,     0.81868,     0.81858,     0.81847,\n",
       "            0.81837,     0.81826,     0.81815,     0.81805,     0.81794,     0.81784,     0.81773,     0.81762,     0.81752,     0.81741,     0.81731,      0.8172,     0.81709,     0.81699,     0.81688,     0.81678,     0.81667,     0.81656,     0.81646,     0.81635,     0.81625,     0.81614,     0.81603,\n",
       "            0.81593,     0.81582,     0.81572,     0.81561,      0.8155,      0.8154,     0.81529,     0.81519,     0.81508,     0.81498,     0.81487,     0.81476,     0.81466,     0.81455,     0.81445,     0.81434,     0.81423,     0.81413,     0.81402,     0.81392,     0.81381,      0.8137,      0.8136,\n",
       "            0.81349,     0.81339,     0.81276,     0.81162,     0.81048,     0.80934,     0.80821,     0.80707,     0.80645,     0.80612,     0.80578,     0.80545,     0.80512,     0.80478,     0.80445,     0.80412,     0.80378,     0.80345,     0.80312,     0.80278,     0.80245,     0.80212,     0.80178,\n",
       "            0.80145,     0.80112,     0.80078,     0.80045,     0.80012,     0.79185,     0.78958,      0.7873,     0.78173,     0.77957,     0.77901,     0.77844,     0.77787,      0.7773,     0.77673,     0.77616,     0.77559,     0.77502,     0.77445,     0.77388,     0.77331,     0.77284,     0.77237,\n",
       "             0.7719,     0.77143,     0.77096,     0.77049,     0.77002,     0.76954,     0.76907,      0.7686,     0.76813,     0.76766,     0.76719,     0.76672,     0.76599,     0.76523,     0.76447,     0.76371,     0.76295,     0.76219,     0.76143,     0.76067,     0.75294,     0.74953,      0.7399,\n",
       "            0.73928,     0.73866,     0.73804,     0.73741,     0.73679,     0.73617,     0.73555,     0.73493,     0.73431,     0.73369,     0.72568,     0.72341,     0.72113,      0.7177,     0.71319,     0.70978,     0.70654,     0.70518,     0.70381,     0.70244,     0.70108,     0.69903,     0.69448,\n",
       "            0.68411,     0.68069,     0.67178,     0.66982,     0.66787,     0.66492,     0.66037,     0.65581,     0.65178,     0.64836,      0.6377,     0.63314,     0.62859,     0.62469,     0.62127,     0.61714,     0.61301,     0.61106,     0.60911,     0.60716,     0.59333,     0.59138,     0.58243,\n",
       "            0.57333,     0.57333,     0.57242,     0.57137,     0.57031,     0.56926,     0.56821,     0.56716,     0.55759,     0.55326,     0.55212,     0.55098,     0.54984,      0.5487,     0.54756,     0.54625,      0.5443,     0.54235,     0.54039,     0.53727,     0.53386,     0.53311,     0.53285,\n",
       "            0.53259,     0.53232,     0.53206,      0.5318,     0.53153,     0.53127,     0.53101,     0.53075,     0.53048,     0.53022,     0.52996,     0.52969,     0.52943,     0.52917,     0.52891,     0.52864,     0.52838,     0.52812,     0.52785,     0.52759,     0.52733,     0.52707,      0.5268,\n",
       "            0.52593,     0.52442,      0.5229,     0.52138,     0.51329,     0.51285,     0.51241,     0.51197,     0.51153,     0.51109,     0.51065,     0.51021,     0.50977,     0.50933,     0.50888,     0.50844,       0.508,     0.50756,     0.50712,     0.50668,     0.49965,     0.49893,     0.49821,\n",
       "             0.4975,     0.49678,     0.49606,     0.49534,     0.49462,      0.4939,      0.4904,      0.4817,     0.47205,     0.47034,     0.46863,     0.46693,     0.46435,     0.46161,     0.45053,     0.44469,     0.44013,     0.43735,     0.43461,     0.43277,     0.43172,     0.43067,     0.42962,\n",
       "            0.42857,     0.42752,     0.42667,     0.42667,     0.42667,     0.42667,     0.42515,      0.4232,     0.42125,     0.41971,     0.41891,      0.4181,      0.4173,     0.41649,     0.41569,     0.41489,     0.41408,     0.41323,     0.41171,     0.41019,     0.40867,     0.40715,     0.39691,\n",
       "             0.3852,     0.37836,     0.36972,     0.35921,     0.35648,     0.35374,     0.34753,     0.34496,     0.34301,     0.34106,     0.33019,     0.32556,     0.32329,     0.32101,     0.31619,     0.31135,     0.30793,     0.29968,      0.2974,     0.29512,     0.29315,     0.29229,     0.29144,\n",
       "            0.29059,     0.28973,     0.28888,     0.28802,     0.28717,     0.27719,     0.26369,     0.25371,      0.2489,     0.23319,     0.22636,     0.21952,      0.2129,     0.20835,     0.19902,     0.19219,     0.17913,     0.17457,      0.1589,     0.15435,     0.15121,     0.14848,     0.14435,\n",
       "            0.13835,     0.13379,     0.12052,     0.11684,     0.11343,    0.099264,    0.097745,    0.096227,    0.094708,    0.085372,    0.075853,    0.069019,    0.051038,    0.042019,    0.035185,    0.030843,    0.027426,    0.024009,    0.020592,    0.019335,    0.018531,    0.017728,    0.016924,\n",
       "            0.01612,    0.015316,    0.014512,    0.013708,    0.012603,    0.011237,   0.0098699,   0.0085032,   0.0071365,           0,           0,           0,           0,           0,           0,           0,           0,           0,           0,           0,           0,           0,           0,\n",
       "                  0,           0,           0,           0,           0,           0,           0,           0,           0,           0,           0,           0,           0,           0,           0,           0,           0,           0,           0,           0,           0,           0,           0,\n",
       "                  0,           0,           0,           0,           0,           0,           0,           0,           0,           0,           0,           0,           0,           0,           0,           0,           0,           0,           0,           0,           0,           0,           0,\n",
       "                  0,           0,           0,           0,           0,           0,           0,           0,           0,           0,           0,           0,           0,           0,           0,           0,           0,           0,           0,           0,           0,           0,           0,\n",
       "                  0,           0,           0,           0,           0,           0,           0,           0,           0,           0,           0]]), 'Confidence', 'Recall']]\n",
       "fitness: 0.6761881912773408\n",
       "keys: ['metrics/precision(B)', 'metrics/recall(B)', 'metrics/mAP50(B)', 'metrics/mAP50-95(B)']\n",
       "maps: array([    0.65055])\n",
       "names: {0: 'all_classes'}\n",
       "plot: True\n",
       "results_dict: {'metrics/precision(B)': 0.9476844783483336, 'metrics/recall(B)': 0.8453645458323821, 'metrics/mAP50(B)': 0.9069760722479759, 'metrics/mAP50-95(B)': 0.6505450933917146, 'fitness': 0.6761881912773408}\n",
       "save_dir: PosixPath('runs/detect/train13')\n",
       "speed: {'preprocess': 0.19197325104648627, 'inference': 7.191889494368174, 'loss': 0.00024304806607440836, 'postprocess': 0.335468829256817}\n",
       "task: 'detect'"
      ]
     },
     "execution_count": 4,
     "metadata": {},
     "output_type": "execute_result"
    }
   ],
   "source": [
    "import ultralytics\n",
    "ultralytics.checks()\n",
    "\n",
    "model = ultralytics.YOLO('yolov8m.yaml')\n",
    "\n",
    "model.train(\n",
    "    data=f'../../data/detection_all/data.yaml',\n",
    "    epochs=25, imgsz=1024, batch=16,\n",
    "    device='cuda', workers=10\n",
    ")"
   ]
  },
  {
   "cell_type": "code",
   "execution_count": 1,
   "metadata": {},
   "outputs": [
    {
     "name": "stderr",
     "output_type": "stream",
     "text": [
      "100%|██████████| 19/19 [00:27<00:00,  1.44s/it]\n"
     ]
    }
   ],
   "source": [
    "import os\n",
    "import cv2\n",
    "from ultralytics import YOLO\n",
    "import shutil\n",
    "from tqdm import tqdm\n",
    "\n",
    "model = YOLO('/home/dmitrii/Desktop/hack_22_06_24_school_of_programming/app/ml/weights/best.pt')\n",
    "\n",
    "input_folder = '/home/dmitrii/Desktop/hack_22_06_24_school_of_programming/data/original'\n",
    "output_folder = '/home/dmitrii/Desktop/hack_22_06_24_school_of_programming/data/classification_crop'\n",
    "\n",
    "shutil.rmtree(output_folder, ignore_errors=True)\n",
    "\n",
    "for path1 in tqdm(os.listdir(input_folder)):\n",
    "    os.makedirs(f'{output_folder}/{path1}')\n",
    "\n",
    "    if path1 in ['.DS_Store', 'README.md', '.gitkeep', 'Дополнительные фото']: continue\n",
    "\n",
    "    for path2 in os.listdir(f'{input_folder}/{path1}/Примеры корректного брендирования'):\n",
    "        image_path = f'{input_folder}/{path1}/Примеры корректного брендирования/{path2}'\n",
    "\n",
    "        image = cv2.imread(image_path)\n",
    "\n",
    "        if image is None or path2.split('.')[-1] not in ['jpeg', 'jpg']: continue\n",
    "\n",
    "        results = model(image_path, conf=0.3, verbose=False)\n",
    "\n",
    "        if len(results[0].boxes.data) > 0:\n",
    "            bboxes = results[0].boxes.data.cpu()[0].numpy()\n",
    "            x1, y1, x2, y2 = map(int, bboxes[:4])\n",
    "            crop = image[y1:y2, x1:x2]\n",
    "            cv2.imwrite(f'{output_folder}/{path1}/{path2}', crop)"
   ]
  },
  {
   "cell_type": "code",
   "execution_count": null,
   "metadata": {},
   "outputs": [],
   "source": []
  }
 ],
 "metadata": {
  "kernelspec": {
   "display_name": "venv_bot1",
   "language": "python",
   "name": "python3"
  },
  "language_info": {
   "codemirror_mode": {
    "name": "ipython",
    "version": 3
   },
   "file_extension": ".py",
   "mimetype": "text/x-python",
   "name": "python",
   "nbconvert_exporter": "python",
   "pygments_lexer": "ipython3",
   "version": "3.11.7"
  }
 },
 "nbformat": 4,
 "nbformat_minor": 2
}
