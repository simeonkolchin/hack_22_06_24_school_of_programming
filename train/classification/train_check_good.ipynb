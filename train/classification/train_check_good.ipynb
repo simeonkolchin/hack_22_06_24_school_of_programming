{
 "cells": [
  {
   "cell_type": "code",
   "execution_count": 1,
   "metadata": {},
   "outputs": [
    {
     "name": "stdout",
     "output_type": "stream",
     "text": [
      "Разделение данных завершено.\n"
     ]
    }
   ],
   "source": [
    "import os\n",
    "import shutil\n",
    "from sklearn.model_selection import train_test_split\n",
    "import shutil\n",
    "import numpy as np\n",
    "\n",
    "\n",
    "data_dir = '/Users/dmitrykutsenko/Desktop/hack_22_06_24_school_of_programming/data/classification_good'\n",
    "\n",
    "train_dir = os.path.join(data_dir, 'train')\n",
    "val_dir = os.path.join(data_dir, 'val')\n",
    "\n",
    "val_split = 0.2\n",
    "\n",
    "shutil.rmtree(train_dir, ignore_errors=True)\n",
    "shutil.rmtree(val_dir, ignore_errors=True)\n",
    "\n",
    "os.makedirs(train_dir, exist_ok=True)\n",
    "os.makedirs(val_dir, exist_ok=True)\n",
    "\n",
    "for class_name in os.listdir(data_dir):\n",
    "    class_path = os.path.join(data_dir, class_name)\n",
    "    if os.path.isdir(class_path) and class_name not in ['train', 'val']:\n",
    "        images = [os.path.join(class_path, img) for img in os.listdir(class_path) if img.endswith(('.jpg', '.jpeg', '.png'))]\n",
    "\n",
    "        if len(images) <= 5: continue\n",
    "\n",
    "        train_images, val_images = train_test_split(images, test_size=val_split, random_state=42)\n",
    "\n",
    "        train_class_dir = os.path.join(train_dir, class_name)\n",
    "        val_class_dir = os.path.join(val_dir, class_name)\n",
    "        os.makedirs(train_class_dir, exist_ok=True)\n",
    "        os.makedirs(val_class_dir, exist_ok=True)\n",
    "\n",
    "        for img in train_images:\n",
    "            shutil.copy(img, os.path.join(train_class_dir, os.path.basename(img)))\n",
    "        for img in val_images:\n",
    "            shutil.copy(img, os.path.join(val_class_dir, os.path.basename(img)))\n",
    "\n",
    "print(\"Разделение данных завершено.\")"
   ]
  },
  {
   "cell_type": "code",
   "execution_count": 1,
   "metadata": {},
   "outputs": [
    {
     "name": "stdout",
     "output_type": "stream",
     "text": [
      "Epoch 0/19\n",
      "----------\n"
     ]
    },
    {
     "name": "stderr",
     "output_type": "stream",
     "text": [
      "/usr/local/anaconda3/envs/venv_mvp_matching/lib/python3.11/site-packages/torchvision/models/_utils.py:208: UserWarning: The parameter 'pretrained' is deprecated since 0.13 and may be removed in the future, please use 'weights' instead.\n",
      "  warnings.warn(\n",
      "/usr/local/anaconda3/envs/venv_mvp_matching/lib/python3.11/site-packages/torchvision/models/_utils.py:223: UserWarning: Arguments other than a weight enum or `None` for 'weights' are deprecated since 0.13 and may be removed in the future. The current behavior is equivalent to passing `weights=MobileNet_V3_Small_Weights.IMAGENET1K_V1`. You can also use `weights=MobileNet_V3_Small_Weights.DEFAULT` to get the most up-to-date weights.\n",
      "  warnings.warn(msg)\n"
     ]
    },
    {
     "name": "stdout",
     "output_type": "stream",
     "text": [
      "train Acc: 0.9143 F1: 0.9094 AUC: 0.7453457446808511\n",
      "val Acc: 0.9291 F1: 0.8950 AUC: 0.8822975517890772\n",
      "Epoch 1/19\n",
      "----------\n",
      "train Acc: 0.9382 F1: 0.9258 AUC: 0.8984042553191489\n",
      "val Acc: 0.9449 F1: 0.9281 AUC: 0.8757062146892655\n",
      "Epoch 2/19\n",
      "----------\n",
      "train Acc: 0.9303 F1: 0.9202 AUC: 0.9101063829787234\n",
      "val Acc: 0.9291 F1: 0.8950 AUC: 0.8418079096045199\n",
      "Epoch 3/19\n",
      "----------\n"
     ]
    }
   ],
   "source": [
    "import torch\n",
    "import torch.nn as nn\n",
    "import torch.optim as optim\n",
    "from torchvision import datasets, transforms, models\n",
    "from torch.utils.data import DataLoader\n",
    "from sklearn.metrics import f1_score, roc_auc_score, accuracy_score\n",
    "import os\n",
    "from tqdm.notebook import tqdm\n",
    "import time\n",
    "import numpy as np\n",
    "\n",
    "torch.manual_seed(777)\n",
    "\n",
    "data_dir = '/Users/dmitrykutsenko/Desktop/hack_22_06_24_school_of_programming/data/classification_good'\n",
    "batch_size = 16\n",
    "num_epochs = 20\n",
    "learning_rate = 0.0005\n",
    "\n",
    "# Трансформации для данных\n",
    "data_transforms = {\n",
    "    'train': transforms.Compose([\n",
    "        transforms.RandomResizedCrop(224),\n",
    "        transforms.RandomHorizontalFlip(),\n",
    "        transforms.RandomRotation(10),\n",
    "        transforms.ColorJitter(brightness=0.2, contrast=0.2, saturation=0.2, hue=0.1),\n",
    "        transforms.ToTensor(),\n",
    "        transforms.Normalize([0.485, 0.456, 0.406], [0.229, 0.224, 0.225])\n",
    "    ]),\n",
    "    'val': transforms.Compose([\n",
    "        transforms.Resize(256),\n",
    "        transforms.CenterCrop(224),\n",
    "        transforms.ToTensor(),\n",
    "        transforms.Normalize([0.485, 0.456, 0.406], [0.229, 0.224, 0.225])\n",
    "    ]),\n",
    "}\n",
    "\n",
    "# Загрузка данных\n",
    "image_datasets = {x: datasets.ImageFolder(os.path.join(data_dir, x), data_transforms[x]) for x in ['train', 'val']}\n",
    "dataloaders = {x: DataLoader(image_datasets[x], batch_size=batch_size, shuffle=True, num_workers=4) for x in ['train', 'val']}\n",
    "dataset_sizes = {x: len(image_datasets[x]) for x in ['train', 'val']}\n",
    "class_names = image_datasets['train'].classes\n",
    "\n",
    "model = models.mobilenet_v3_small(pretrained=True)\n",
    "model.classifier[3] = nn.Linear(model.classifier[3].in_features, 1)\n",
    "\n",
    "device = torch.device(\"mps\")\n",
    "model = model.to(device)\n",
    "\n",
    "criterion = nn.BCEWithLogitsLoss()\n",
    "# optimizer = optim.Adam(model.parameters(), lr=learning_rate)\n",
    "optimizer = optim.AdamW(model.parameters(), lr=learning_rate)\n",
    "# scheduler = optim.lr_scheduler.OneCycleLR(optimizer, max_lr=learning_rate, steps_per_epoch=len(dataloaders['train']), epochs=num_epochs)\n",
    "\n",
    "best_score = 0\n",
    "\n",
    "for epoch in range(num_epochs):\n",
    "    print(f'Epoch {epoch}/{num_epochs - 1}')\n",
    "    print('-' * 10)\n",
    "\n",
    "    if epoch == 1:\n",
    "        for param_group in optimizer.param_groups:\n",
    "            param_group['lr'] = 0.0003\n",
    "\n",
    "    for phase in ['train', 'val']:\n",
    "        if phase == 'train':\n",
    "            model.train()\n",
    "        else:\n",
    "            model.eval()\n",
    "\n",
    "        running_loss = 0.0\n",
    "        running_corrects = 0\n",
    "        all_labels = []\n",
    "        all_probs = []\n",
    "\n",
    "        correct = 0\n",
    "        total = 0\n",
    "        for inputs, labels in dataloaders[phase]:\n",
    "            inputs = inputs.to(device)\n",
    "            labels = labels.to(device).float().view(-1, 1)\n",
    "\n",
    "            optimizer.zero_grad()\n",
    "\n",
    "            with torch.set_grad_enabled(phase == 'train'):\n",
    "                outputs = model(inputs)\n",
    "                _, preds = torch.max(outputs, 1)\n",
    "                loss = criterion(outputs, labels)\n",
    "\n",
    "                if phase == 'train':\n",
    "                    loss.backward()\n",
    "                    optimizer.step()\n",
    "                    # scheduler.step()\n",
    "\n",
    "            running_loss += loss.item() * inputs.size(0)\n",
    "            total += labels.size(0)\n",
    "            probs = torch.sigmoid(outputs).detach().cpu().numpy()\n",
    "\n",
    "            all_labels.extend(labels.cpu().numpy())\n",
    "            all_probs.extend(probs)\n",
    "\n",
    "            start = time.time()\n",
    "\n",
    "        all_probs = np.concatenate(all_probs)\n",
    "        all_preds = all_probs.round()\n",
    "        all_labels = np.concatenate(all_labels)\n",
    "\n",
    "        epoch_acc = accuracy_score(all_labels, all_preds)\n",
    "        epoch_f1 = f1_score(all_labels, all_preds, average='weighted')\n",
    "        epoch_auc = roc_auc_score(all_labels, all_probs, average='weighted')\n",
    "\n",
    "        print(f'{phase} Acc: {epoch_acc:.4f} F1: {epoch_f1:.4f} AUC: {epoch_auc}')\n",
    "\n",
    "        if epoch_auc > best_score:\n",
    "            torch.save(model.state_dict(), 'model.pt')\n",
    "            best_score = epoch_auc"
   ]
  },
  {
   "cell_type": "code",
   "execution_count": 2,
   "metadata": {},
   "outputs": [
    {
     "name": "stderr",
     "output_type": "stream",
     "text": [
      "/usr/local/anaconda3/envs/venv_mvp_matching/lib/python3.11/site-packages/torchvision/models/_utils.py:208: UserWarning: The parameter 'pretrained' is deprecated since 0.13 and may be removed in the future, please use 'weights' instead.\n",
      "  warnings.warn(\n",
      "/usr/local/anaconda3/envs/venv_mvp_matching/lib/python3.11/site-packages/torchvision/models/_utils.py:223: UserWarning: Arguments other than a weight enum or `None` for 'weights' are deprecated since 0.13 and may be removed in the future. The current behavior is equivalent to passing `weights=None`.\n",
      "  warnings.warn(msg)\n"
     ]
    }
   ],
   "source": [
    "import torch\n",
    "import torchvision.models as models\n",
    "import torch.nn as nn\n",
    "\n",
    "model = models.mobilenet_v3_small(pretrained=False)\n",
    "model.classifier[3] = nn.Linear(model.classifier[3].in_features, 1)\n",
    "model.load_state_dict(torch.load('model.pt'))\n",
    "\n",
    "model.eval()\n",
    "\n",
    "dummy_input = torch.randn(1, 3, 224, 224)\n",
    "\n",
    "torch.onnx.export(model, dummy_input, 'classification_check_good.onnx', input_names=['input'], output_names=['output'])"
   ]
  },
  {
   "cell_type": "code",
   "execution_count": 8,
   "metadata": {},
   "outputs": [
    {
     "data": {
      "text/plain": [
       "array([[7.5271616]], dtype=float32)"
      ]
     },
     "execution_count": 8,
     "metadata": {},
     "output_type": "execute_result"
    }
   ],
   "source": [
    "import onnxruntime as ort\n",
    "import numpy as np\n",
    "from PIL import Image\n",
    "from torchvision import transforms\n",
    "\n",
    "# Загрузка и предобработка изображения\n",
    "image_path = '/Users/dmitrykutsenko/Desktop/hack_22_06_24_school_of_programming/data/classification_good/train/good/--fZyzXJzmU.jpg'\n",
    "image = Image.open(image_path)\n",
    "\n",
    "preprocess = transforms.Compose([\n",
    "    transforms.Resize(256),\n",
    "    transforms.CenterCrop(224),\n",
    "    transforms.ToTensor(),\n",
    "    transforms.Normalize(mean=[0.485, 0.456, 0.406], std=[0.229, 0.224, 0.225]),\n",
    "])\n",
    "\n",
    "input_tensor = preprocess(image)\n",
    "input_batch = input_tensor.unsqueeze(0).numpy()\n",
    "\n",
    "# Загрузка ONNX модели\n",
    "onnx_model_path = '/Users/dmitrykutsenko/Desktop/hack_22_06_24_school_of_programming/app/ml/weights/classification_check_good.onnx'\n",
    "ort_session = ort.InferenceSession(onnx_model_path)\n",
    "\n",
    "# Получение предсказания\n",
    "ort_inputs = {ort_session.get_inputs()[0].name: input_batch}\n",
    "ort_outs = ort_session.run(None, ort_inputs)\n",
    "\n",
    "# Преобразование выходных данных\n",
    "output = ort_outs[0]\n",
    "\n",
    "output# [0][0] > 0"
   ]
  },
  {
   "cell_type": "code",
   "execution_count": null,
   "metadata": {},
   "outputs": [],
   "source": []
  }
 ],
 "metadata": {
  "kernelspec": {
   "display_name": "venv_ilona",
   "language": "python",
   "name": "python3"
  },
  "language_info": {
   "codemirror_mode": {
    "name": "ipython",
    "version": 3
   },
   "file_extension": ".py",
   "mimetype": "text/x-python",
   "name": "python",
   "nbconvert_exporter": "python",
   "pygments_lexer": "ipython3",
   "version": "3.11.7"
  }
 },
 "nbformat": 4,
 "nbformat_minor": 2
}
